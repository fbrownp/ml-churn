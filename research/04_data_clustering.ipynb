{
 "cells": [
  {
   "cell_type": "code",
   "execution_count": 1,
   "metadata": {},
   "outputs": [],
   "source": [
    "import os"
   ]
  },
  {
   "cell_type": "code",
   "execution_count": 2,
   "metadata": {},
   "outputs": [
    {
     "data": {
      "text/plain": [
       "'d:\\\\Repositories\\\\ml-churn\\\\research'"
      ]
     },
     "execution_count": 2,
     "metadata": {},
     "output_type": "execute_result"
    }
   ],
   "source": [
    "%pwd"
   ]
  },
  {
   "cell_type": "code",
   "execution_count": 3,
   "metadata": {},
   "outputs": [],
   "source": [
    "os.chdir(\"d://Repositories/ml-churn/\")"
   ]
  },
  {
   "cell_type": "code",
   "execution_count": 4,
   "metadata": {},
   "outputs": [
    {
     "data": {
      "text/plain": [
       "'d:\\\\Repositories\\\\ml-churn'"
      ]
     },
     "execution_count": 4,
     "metadata": {},
     "output_type": "execute_result"
    }
   ],
   "source": [
    "%pwd"
   ]
  },
  {
   "cell_type": "code",
   "execution_count": 46,
   "metadata": {},
   "outputs": [],
   "source": [
    "from dataclasses import dataclass\n",
    "from pathlib import Path\n",
    "\n",
    "@dataclass(frozen=True)\n",
    "class DataClusteringConfig:\n",
    "    root_dir: Path\n",
    "    train_data_path: Path\n",
    "    model_name: str\n",
    "    n_clustering: int\n",
    "    target_column: str"
   ]
  },
  {
   "cell_type": "code",
   "execution_count": 47,
   "metadata": {},
   "outputs": [],
   "source": [
    "from Churn_analysis.constants import *\n",
    "from Churn_analysis.utils.common import read_yaml, create_directories"
   ]
  },
  {
   "cell_type": "code",
   "execution_count": 48,
   "metadata": {},
   "outputs": [],
   "source": [
    "class ConfigurationManager:\n",
    "    def __init__(self,\n",
    "                 config_filepath = CONFIG_FILE_PATH,\n",
    "                 params_filepath = PARAMS_FILE_PATH,\n",
    "                 schema_filepath = SCHEMA_FILE_PATH):\n",
    "        self.config = read_yaml(config_filepath)\n",
    "        self.params = read_yaml(params_filepath)\n",
    "        self.schema = read_yaml(schema_filepath)\n",
    "        create_directories([self.config.artifacts_root])\n",
    "\n",
    "\n",
    "    def get_data_clustering_config(self) -> DataClusteringConfig:\n",
    "        config = self.config.data_clustering\n",
    "        params = self.params.KPrototypes\n",
    "        schema = self.schema.TARGET_COLUMN\n",
    "\n",
    "        create_directories([config.root_dir])\n",
    "\n",
    "        data_clustering_config = DataClusteringConfig(\n",
    "            root_dir = config.root_dir,\n",
    "            train_data_path = config.train_data_path,\n",
    "            model_name = config.model_name,\n",
    "            n_clustering = params.N_CLUSTERS,\n",
    "            target_column= schema.target_1\n",
    "            )\n",
    "        return data_clustering_config\n",
    "    "
   ]
  },
  {
   "cell_type": "code",
   "execution_count": 49,
   "metadata": {},
   "outputs": [],
   "source": [
    "import os \n",
    "from Churn_analysis import logger\n",
    "import pandas as pd\n",
    "import joblib\n",
    "from kmodes.kprototypes import KPrototypes"
   ]
  },
  {
   "cell_type": "code",
   "execution_count": 50,
   "metadata": {},
   "outputs": [],
   "source": [
    "class DataClustering():\n",
    "    def __init__(self, config: DataClusteringConfig):\n",
    "        self.config = config\n",
    "\n",
    "    def get_data_clustering_object(self):\n",
    "\n",
    "        \"\"\"\n",
    "        This function is responsible clustering the data\n",
    "        by KPrototypes method\n",
    "        \"\"\"\n",
    "\n",
    "        # Read data\n",
    "        train_data_df      = pd.read_csv(self.config.train_data_path)\n",
    "\n",
    "        # Drop customerID\n",
    "        train_data_df.drop(columns = \"customerID\", inplace= True)\n",
    "\n",
    "        # Params of Kprototype\n",
    "        params_clustering  =  {\"n_clusters\": self.config.n_clustering}\n",
    "    \n",
    "        # Initialize the model and .fit()\n",
    "        kP = KPrototypes(**params_clustering, init='Huang', n_init=1, verbose=True)\n",
    "        clustering_model = kP.fit(train_data_df.drop(columns=\"Churn\"),\n",
    "                                  categorical=[0,1,2,3,5,6,7,8,9,10,11,12,13,14,15,16])\n",
    "        \n",
    "        # Predict groups and create\n",
    "        cluster_predicted_data = pd.DataFrame(kP.predict(train_data_df.drop(columns = \"Churn\"),\n",
    "                                                         categorical=[0,1,2,3,5,6,7,8,9,10,11,12,13,14,15,16]),\n",
    "                                                         columns=[\"Groups\"])\n",
    "        \n",
    "\n",
    "        clustered_data = pd.concat([train_data_df , cluster_predicted_data], axis = 1)\n",
    "        clustered_data.to_csv(os.path.join(self.config.root_dir, \"Clustered_data.csv\"), index = False)\n",
    "\n",
    "\n",
    "        joblib.dump(clustering_model, os.path.join(self.config.root_dir,self.config.model_name))\n",
    "\n",
    "        logger.info(f\"Clustering model is saved in {os.path.join(self.config.root_dir,self.config.model_name)}\")\n",
    "        logger.info(f\"Clustered data is saved in {os.path.join(self.config.root_dir,'Clustered_data')}\")\n",
    "\n",
    "\n",
    "        "
   ]
  },
  {
   "cell_type": "code",
   "execution_count": 51,
   "metadata": {},
   "outputs": [
    {
     "name": "stdout",
     "output_type": "stream",
     "text": [
      "[2023-12-15 15:44:46,842: INFO: common: yaml file: config\\config.yaml loaded successfully]\n",
      "[2023-12-15 15:44:46,844: INFO: common: yaml file: params.yaml loaded successfully]\n",
      "[2023-12-15 15:44:46,847: INFO: common: yaml file: schema.yaml loaded successfully]\n",
      "[2023-12-15 15:44:46,848: INFO: common: created directory at: artifacts]\n",
      "[2023-12-15 15:44:46,850: INFO: common: created directory at: artifacts/data_clustering]\n",
      "Init: initializing centroids\n",
      "Init: initializing clusters\n",
      "Init: initializing centroids\n",
      "Init: initializing clusters\n",
      "Starting iterations...\n",
      "Run: 1, iteration: 1/100, moves: 33, ncost: 3722822436.20571\n",
      "Run: 1, iteration: 2/100, moves: 37, ncost: 3720369628.596716\n",
      "Run: 1, iteration: 3/100, moves: 24, ncost: 3719464456.08979\n",
      "Run: 1, iteration: 4/100, moves: 4, ncost: 3719444405.9605927\n",
      "Run: 1, iteration: 5/100, moves: 0, ncost: 3719444405.9605927\n",
      "[2023-12-15 15:44:49,531: INFO: 2900050764: Clustering model is saved in artifacts/data_clustering\\clustering_model.joblib]\n",
      "[2023-12-15 15:44:49,531: INFO: 2900050764: Clustered data is saved in artifacts/data_clustering\\Clustered_data]\n"
     ]
    }
   ],
   "source": [
    "try:\n",
    "    config = ConfigurationManager()\n",
    "    data_clustering_config = config.get_data_clustering_config()\n",
    "    data_clustering = DataClustering(config = data_clustering_config)\n",
    "    data_clustering.get_data_clustering_object()\n",
    "\n",
    "except Exception as e:\n",
    "    raise e"
   ]
  },
  {
   "cell_type": "code",
   "execution_count": null,
   "metadata": {},
   "outputs": [],
   "source": []
  }
 ],
 "metadata": {
  "kernelspec": {
   "display_name": "venv",
   "language": "python",
   "name": "python3"
  },
  "language_info": {
   "codemirror_mode": {
    "name": "ipython",
    "version": 3
   },
   "file_extension": ".py",
   "mimetype": "text/x-python",
   "name": "python",
   "nbconvert_exporter": "python",
   "pygments_lexer": "ipython3",
   "version": "3.11.4"
  }
 },
 "nbformat": 4,
 "nbformat_minor": 2
}
