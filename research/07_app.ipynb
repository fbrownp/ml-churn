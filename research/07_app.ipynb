{
 "cells": [
  {
   "cell_type": "code",
   "execution_count": 1,
   "metadata": {},
   "outputs": [],
   "source": [
    "import os"
   ]
  },
  {
   "cell_type": "code",
   "execution_count": 2,
   "metadata": {},
   "outputs": [
    {
     "data": {
      "text/plain": [
       "'d:\\\\Repositories\\\\ml-churn\\\\research'"
      ]
     },
     "execution_count": 2,
     "metadata": {},
     "output_type": "execute_result"
    }
   ],
   "source": [
    "%pwd"
   ]
  },
  {
   "cell_type": "code",
   "execution_count": 3,
   "metadata": {},
   "outputs": [],
   "source": [
    "os.chdir(\"d:/Repositories/ml-churn/\")"
   ]
  },
  {
   "cell_type": "code",
   "execution_count": 4,
   "metadata": {},
   "outputs": [
    {
     "data": {
      "text/plain": [
       "'d:\\\\Repositories\\\\ml-churn'"
      ]
     },
     "execution_count": 4,
     "metadata": {},
     "output_type": "execute_result"
    }
   ],
   "source": [
    "%pwd"
   ]
  },
  {
   "cell_type": "code",
   "execution_count": null,
   "metadata": {},
   "outputs": [],
   "source": [
    "from fastapi import FastAPI\n",
    "import uvicorn\n",
    "from pydantic import BaseModel\n",
    "import joblib\n",
    "import pandas as pd\n",
    "import numpy as np\n",
    "\n",
    "\n",
    "\n",
    "\n",
    "class VariablesIn(BaseModel):\n",
    "    customerID: object\n",
    "    gender: object\n",
    "    SeniorCitizen: object\n",
    "    Partner: object\n",
    "    Dependents: object\n",
    "    tenure: int\n",
    "    PhoneService: object\n",
    "    MultipleLines: object\n",
    "    InternetService: object\n",
    "    OnlineSecurity: object\n",
    "    OnlineBackup: object\n",
    "    DeviceProtection: object\n",
    "    TechSupport: object\n",
    "    StreamingTV: object\n",
    "    StreamingMovies: object\n",
    "    Contract  : object\n",
    "    PaperlessBilling: object\n",
    "    PaymentMethod: object\n",
    "    MonthlyCharges: float\n",
    "    TotalCharges: float\n",
    "    Churn: object\n",
    "\n",
    "\n",
    "app = FastAPI()\n",
    "@app.get(\"/\")\n",
    "def home():\n",
    "    return {\"Hello world\"}\n",
    "\n",
    "@app.post(\"/predict\")\n",
    "def predict(data : VariablesIn):\n",
    "    a = 0\n",
    "\n"
   ]
  },
  {
   "cell_type": "code",
   "execution_count": 21,
   "metadata": {},
   "outputs": [],
   "source": [
    "from pydantic import BaseModel\n",
    "\n",
    "class VariablesIn(BaseModel):\n",
    "    customerID: object\n",
    "    gender: object\n",
    "    SeniorCitizen: object\n",
    "    Partner: object\n",
    "    Dependents: object\n",
    "    tenure: int\n",
    "    PhoneService: object\n",
    "    MultipleLines: object\n",
    "    InternetService: object\n",
    "    OnlineSecurity: object\n",
    "    OnlineBackup: object\n",
    "    DeviceProtection: object\n",
    "    TechSupport: object\n",
    "    StreamingTV: object\n",
    "    StreamingMovies: object\n",
    "    Contract  : object\n",
    "    PaperlessBilling: object\n",
    "    PaymentMethod: object\n",
    "    MonthlyCharges: float\n",
    "    TotalCharges: float\n",
    "    Churn: object"
   ]
  },
  {
   "cell_type": "code",
   "execution_count": 44,
   "metadata": {},
   "outputs": [],
   "source": [
    "data = {'customerID': 'string', 'gender': 'string', 'SeniorCitizen': 'string', 'Partner': 'string', 'Dependents': 'string', 'tenure': 0, 'PhoneService': 'string', 'MultipleLines': 'string', 'InternetService': 'string', 'OnlineSecurity': 'string', 'OnlineBackup': 'string', 'DeviceProtection': 'string', 'TechSupport': 'string', 'StreamingTV': 'string', 'StreamingMovies': 'string', 'Contract': 'string', 'PaperlessBilling': 'string', 'PaymentMethod': 'string', 'MonthlyCharges': 0.0, 'TotalCharges': 0.0, 'Churn': 'string'}\n",
    "\n",
    "    "
   ]
  },
  {
   "cell_type": "code",
   "execution_count": 45,
   "metadata": {},
   "outputs": [],
   "source": [
    "import pandas as pd"
   ]
  },
  {
   "cell_type": "code",
   "execution_count": 46,
   "metadata": {},
   "outputs": [],
   "source": [
    "data:VariablesIn"
   ]
  },
  {
   "cell_type": "code",
   "execution_count": 50,
   "metadata": {},
   "outputs": [
    {
     "data": {
      "text/html": [
       "<div>\n",
       "<style scoped>\n",
       "    .dataframe tbody tr th:only-of-type {\n",
       "        vertical-align: middle;\n",
       "    }\n",
       "\n",
       "    .dataframe tbody tr th {\n",
       "        vertical-align: top;\n",
       "    }\n",
       "\n",
       "    .dataframe thead th {\n",
       "        text-align: right;\n",
       "    }\n",
       "</style>\n",
       "<table border=\"1\" class=\"dataframe\">\n",
       "  <thead>\n",
       "    <tr style=\"text-align: right;\">\n",
       "      <th></th>\n",
       "      <th>customerID</th>\n",
       "      <th>gender</th>\n",
       "      <th>SeniorCitizen</th>\n",
       "      <th>Partner</th>\n",
       "      <th>Dependents</th>\n",
       "      <th>tenure</th>\n",
       "      <th>PhoneService</th>\n",
       "      <th>MultipleLines</th>\n",
       "      <th>InternetService</th>\n",
       "      <th>OnlineSecurity</th>\n",
       "      <th>...</th>\n",
       "      <th>DeviceProtection</th>\n",
       "      <th>TechSupport</th>\n",
       "      <th>StreamingTV</th>\n",
       "      <th>StreamingMovies</th>\n",
       "      <th>Contract</th>\n",
       "      <th>PaperlessBilling</th>\n",
       "      <th>PaymentMethod</th>\n",
       "      <th>MonthlyCharges</th>\n",
       "      <th>TotalCharges</th>\n",
       "      <th>Churn</th>\n",
       "    </tr>\n",
       "  </thead>\n",
       "  <tbody>\n",
       "    <tr>\n",
       "      <th>0</th>\n",
       "      <td>string</td>\n",
       "      <td>string</td>\n",
       "      <td>string</td>\n",
       "      <td>string</td>\n",
       "      <td>string</td>\n",
       "      <td>0</td>\n",
       "      <td>string</td>\n",
       "      <td>string</td>\n",
       "      <td>string</td>\n",
       "      <td>string</td>\n",
       "      <td>...</td>\n",
       "      <td>string</td>\n",
       "      <td>string</td>\n",
       "      <td>string</td>\n",
       "      <td>string</td>\n",
       "      <td>string</td>\n",
       "      <td>string</td>\n",
       "      <td>string</td>\n",
       "      <td>0.0</td>\n",
       "      <td>0.0</td>\n",
       "      <td>string</td>\n",
       "    </tr>\n",
       "  </tbody>\n",
       "</table>\n",
       "<p>1 rows × 21 columns</p>\n",
       "</div>"
      ],
      "text/plain": [
       "  customerID  gender SeniorCitizen Partner Dependents  tenure PhoneService  \\\n",
       "0     string  string        string  string     string       0       string   \n",
       "\n",
       "  MultipleLines InternetService OnlineSecurity  ... DeviceProtection  \\\n",
       "0        string          string         string  ...           string   \n",
       "\n",
       "  TechSupport StreamingTV StreamingMovies Contract PaperlessBilling  \\\n",
       "0      string      string          string   string           string   \n",
       "\n",
       "  PaymentMethod MonthlyCharges  TotalCharges   Churn  \n",
       "0        string            0.0           0.0  string  \n",
       "\n",
       "[1 rows x 21 columns]"
      ]
     },
     "execution_count": 50,
     "metadata": {},
     "output_type": "execute_result"
    }
   ],
   "source": []
  },
  {
   "cell_type": "code",
   "execution_count": 48,
   "metadata": {},
   "outputs": [
    {
     "data": {
      "text/plain": [
       "['customerID',\n",
       " 'gender',\n",
       " 'SeniorCitizen',\n",
       " 'Partner',\n",
       " 'Dependents',\n",
       " 'tenure',\n",
       " 'PhoneService',\n",
       " 'MultipleLines',\n",
       " 'InternetService',\n",
       " 'OnlineSecurity',\n",
       " 'OnlineBackup',\n",
       " 'DeviceProtection',\n",
       " 'TechSupport',\n",
       " 'StreamingTV',\n",
       " 'StreamingMovies',\n",
       " 'Contract',\n",
       " 'PaperlessBilling',\n",
       " 'PaymentMethod',\n",
       " 'MonthlyCharges',\n",
       " 'TotalCharges',\n",
       " 'Churn']"
      ]
     },
     "execution_count": 48,
     "metadata": {},
     "output_type": "execute_result"
    }
   ],
   "source": [
    "list(data)"
   ]
  },
  {
   "cell_type": "code",
   "execution_count": 42,
   "metadata": {},
   "outputs": [
    {
     "data": {
      "text/plain": [
       "array(['string', 'string', 'string', 'string', 'string', '0', 'string',\n",
       "       'string', 'string', 'string', 'string', 'string', 'string',\n",
       "       'string', 'string', 'string', 'string', 'string', '0.0', '0.0',\n",
       "       'string'], dtype='<U32')"
      ]
     },
     "execution_count": 42,
     "metadata": {},
     "output_type": "execute_result"
    }
   ],
   "source": [
    "values"
   ]
  },
  {
   "cell_type": "code",
   "execution_count": 51,
   "metadata": {},
   "outputs": [
    {
     "name": "stderr",
     "output_type": "stream",
     "text": [
      "IProgress not found. Please update jupyter and ipywidgets. See https://ipywidgets.readthedocs.io/en/stable/user_install.html\n"
     ]
    }
   ],
   "source": [
    "explainer = joblib.load(\"research/SHAP/shap_explainer\")\n"
   ]
  },
  {
   "cell_type": "code",
   "execution_count": 55,
   "metadata": {},
   "outputs": [],
   "source": [
    "var = {\n",
    "  \"customerID\": \"1\",\n",
    "  \"gender\": \"Male\",\n",
    "  \"SeniorCitizen\": \"Yes\",\n",
    "  \"Partner\": \"No\",\n",
    "  \"Dependents\": \"No\",\n",
    "  \"tenure\": 20,\n",
    "  \"PhoneService\": \"Yes\",\n",
    "  \"MultipleLines\": \"Yes\",\n",
    "  \"InternetService\": \"DSL\",\n",
    "  \"OnlineSecurity\": \"Yes\",\n",
    "  \"OnlineBackup\": \"No\",\n",
    "  \"DeviceProtection\": \"No\",\n",
    "  \"TechSupport\": \"No\",\n",
    "  \"StreamingTV\": \"Yes\",\n",
    "  \"StreamingMovies\": \"Yes\",\n",
    "  \"Contract\": \"Month-to-month\",\n",
    "  \"PaperlessBilling\": \"Yes\",\n",
    "  \"PaymentMethod\": \"Mailed check\",\n",
    "  \"MonthlyCharges\": 204,\n",
    "  \"TotalCharges\": 804,\n",
    "  \"Churn\": \"Yes\"\n",
    "}\n",
    "\n",
    "data_df = pd.DataFrame([var])"
   ]
  },
  {
   "cell_type": "code",
   "execution_count": 56,
   "metadata": {},
   "outputs": [],
   "source": [
    "input_encoder = joblib.load(\"artifacts/data_transformation/transformation.pkl\")\n",
    "\n",
    "Encoded_data = input_encoder.transform(data_df.drop(columns=[\"customerID\"]))\n",
    "Encoded_df = pd.DataFrame(Encoded_data , columns= input_encoder.get_feature_names_out())\n",
    "\n",
    "Encoded_df.drop(columns= [\"Onehot__OnlineSecurity_No internet service\",\n",
    "                            \"Onehot__OnlineBackup_No internet service\",\n",
    "                            \"Onehot__DeviceProtection_No internet service\",\n",
    "                            \"Onehot__TechSupport_No internet service\",\n",
    "                            \"Onehot__StreamingTV_No internet service\",\n",
    "                            \"Onehot__StreamingMovies_No internet service\",\n",
    "                            \"Ordinal__Churn\"], inplace= True)\n",
    "\n",
    "shap_values = explainer(Encoded_df)"
   ]
  },
  {
   "cell_type": "code",
   "execution_count": 71,
   "metadata": {},
   "outputs": [
    {
     "data": {
      "text/plain": [
       "array([ 1.        ,  1.        ,  0.        ,  0.        , -0.50611277,\n",
       "        4.62712928, -0.65264881,  0.        ,  1.        ,  0.        ,\n",
       "        0.        ,  1.        ,  1.        ,  0.        ,  0.        ,\n",
       "        0.        ,  1.        ,  1.        ,  0.        ,  1.        ,\n",
       "        0.        ,  1.        ,  0.        ,  0.        ,  1.        ,\n",
       "        0.        ,  1.        ,  1.        ,  0.        ,  0.        ,\n",
       "        0.        ,  1.        ,  0.        ,  0.        ,  0.        ,\n",
       "        1.        ])"
      ]
     },
     "execution_count": 71,
     "metadata": {},
     "output_type": "execute_result"
    }
   ],
   "source": [
    "shap_values.data[0]"
   ]
  },
  {
   "cell_type": "code",
   "execution_count": null,
   "metadata": {},
   "outputs": [],
   "source": []
  }
 ],
 "metadata": {
  "kernelspec": {
   "display_name": "venv",
   "language": "python",
   "name": "python3"
  },
  "language_info": {
   "codemirror_mode": {
    "name": "ipython",
    "version": 3
   },
   "file_extension": ".py",
   "mimetype": "text/x-python",
   "name": "python",
   "nbconvert_exporter": "python",
   "pygments_lexer": "ipython3",
   "version": "3.11.4"
  }
 },
 "nbformat": 4,
 "nbformat_minor": 2
}
