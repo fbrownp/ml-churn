{
 "cells": [
  {
   "cell_type": "code",
   "execution_count": 1,
   "metadata": {},
   "outputs": [],
   "source": [
    "import os"
   ]
  },
  {
   "cell_type": "code",
   "execution_count": 2,
   "metadata": {},
   "outputs": [
    {
     "data": {
      "text/plain": [
       "'d:\\\\Repositories\\\\ml-churn\\\\research'"
      ]
     },
     "execution_count": 2,
     "metadata": {},
     "output_type": "execute_result"
    }
   ],
   "source": [
    "%pwd"
   ]
  },
  {
   "cell_type": "code",
   "execution_count": 3,
   "metadata": {},
   "outputs": [],
   "source": [
    "os.chdir(\"d://Repositories/ml-churn/\")"
   ]
  },
  {
   "cell_type": "code",
   "execution_count": 4,
   "metadata": {},
   "outputs": [
    {
     "data": {
      "text/plain": [
       "'d:\\\\Repositories\\\\ml-churn'"
      ]
     },
     "execution_count": 4,
     "metadata": {},
     "output_type": "execute_result"
    }
   ],
   "source": [
    "%pwd"
   ]
  },
  {
   "cell_type": "code",
   "execution_count": 5,
   "metadata": {},
   "outputs": [],
   "source": [
    "from dataclasses import dataclass\n",
    "from pathlib import Path\n",
    "\n",
    "@dataclass(frozen=True)\n",
    "class DataTransformationConfig:\n",
    "    root_dir: Path\n",
    "    data_path: Path\n",
    "    transformation_path: Path"
   ]
  },
  {
   "cell_type": "code",
   "execution_count": 6,
   "metadata": {},
   "outputs": [],
   "source": [
    "from Churn_analysis.constants import *\n",
    "from Churn_analysis.utils.common import read_yaml, create_directories"
   ]
  },
  {
   "cell_type": "code",
   "execution_count": 7,
   "metadata": {},
   "outputs": [],
   "source": [
    "class ConfigurationManager:\n",
    "    def __init__(self,\n",
    "                 config_filepath = CONFIG_FILE_PATH,\n",
    "                 params_filepath = PARAMS_FILE_PATH,\n",
    "                 schema_filepath = SCHEMA_FILE_PATH):\n",
    "        self.config = read_yaml(config_filepath)\n",
    "        self.params = read_yaml(params_filepath)\n",
    "        self.schema = read_yaml(schema_filepath)\n",
    "        create_directories([self.config.artifacts_root])\n",
    "\n",
    "\n",
    "    def get_data_transformation_config(self) -> DataTransformationConfig:\n",
    "        config = self.config.data_transformation\n",
    "\n",
    "        create_directories([config.root_dir])\n",
    "\n",
    "        data_transformation_config = DataTransformationConfig(\n",
    "            root_dir=config.root_dir,\n",
    "            data_path=config.data_path,\n",
    "            transformation_path= config.transformation_path\n",
    "            )\n",
    "        return data_transformation_config"
   ]
  },
  {
   "cell_type": "code",
   "execution_count": 12,
   "metadata": {},
   "outputs": [],
   "source": [
    "import os \n",
    "from Churn_analysis import logger\n",
    "import pandas as pd\n",
    "from sklearn.preprocessing import StandardScaler,LabelEncoder\n",
    "from sklearn.model_selection import train_test_split\n"
   ]
  },
  {
   "cell_type": "code",
   "execution_count": 13,
   "metadata": {},
   "outputs": [],
   "source": [
    "class DataTransformation():\n",
    "    def __init__(self, config: DataTransformationConfig):\n",
    "        self.config = config\n",
    "\n",
    "\n",
    "    def get_train_test_data(self):\n",
    "        \"\"\"\n",
    "        Function that get the data, apply \n",
    "        get_dummies to categorical data, StandardScaler to numeric\n",
    "        and LabelEncoder for choice data.\n",
    "        It also drop unnecesary columns\n",
    "        \"\"\"\n",
    "        # Reading files\n",
    "        data = pd.read_csv(self.config.data_path)\n",
    "        names = list(data.columns[[6,7,8,9,10,11,12,13,14,15,16,17]])\n",
    "        \n",
    "        # Applying get_dummies\n",
    "        for name in names: \n",
    "            data = pd.get_dummies(data, columns=[name], dtype=int)\n",
    "\n",
    "\n",
    "        # Dropping innecesary columns\n",
    "        data.drop(columns=[\"customerID\",\"OnlineSecurity_No internet service\",\"OnlineBackup_No internet service\",\n",
    "                           \"DeviceProtection_No internet service\",\"TechSupport_No internet service\",\"StreamingTV_No internet service\",\n",
    "                           \"StreamingMovies_No internet service\"], inplace=True)\n",
    "        \n",
    "\n",
    "        Ord_encoder = LabelEncoder()\n",
    "        Std_encoder = StandardScaler()\n",
    "\n",
    "        Ordinal_variables = [\"gender\", \"SeniorCitizen\",\"Partner\",\"Dependents\",\"Churn\"]\n",
    "        Numeric_variables = [\"tenure\",\"MonthlyCharges\",\"TotalCharges\"]\n",
    "\n",
    "        # Applying transformations\n",
    "        data[Ordinal_variables] = data[Ordinal_variables].apply(lambda col: Ord_encoder.fit_transform(col))\n",
    "        data[Numeric_variables] = Std_encoder.fit_transform(data[Numeric_variables])\n",
    "\n",
    "        # Splitting the data\n",
    "        train, test = train_test_split(data,test_size=0.3, random_state=42, stratify=data[\"Churn\"] )\n",
    "        train.to_csv(os.path.join(self.config.root_dir, \"train.csv\"), index= False)\n",
    "        test.to_csv(os.path.join(self.config.root_dir, \"test.csv\"), index= False)\n",
    "\n",
    "        strat_test  = test[test[\"Churn\"]==1].sum()/test[test[\"Churn\"]==1].count()\n",
    "        strat_train = train[train[\"Churn\"]==1].sum()/train[train[\"Churn\"]==1].count()\n",
    "\n",
    "        logger.info(f\"Transformed and splitted data, stratification of train data {strat_train}\\n \n",
    "                    stratification of test data {strat_test}\")\n",
    "        logger.info(train.shape)\n",
    "        logger.info(test.shape)\n",
    "        "
   ]
  },
  {
   "cell_type": "code",
   "execution_count": 15,
   "metadata": {},
   "outputs": [
    {
     "name": "stdout",
     "output_type": "stream",
     "text": [
      "[2023-12-15 12:02:15,857: INFO: common: yaml file: config\\config.yaml loaded successfully]\n",
      "[2023-12-15 12:02:15,859: INFO: common: yaml file: params.yaml loaded successfully]\n",
      "[2023-12-15 12:02:15,861: INFO: common: yaml file: schema.yaml loaded successfully]\n",
      "[2023-12-15 12:02:15,863: INFO: common: created directory at: artifacts]\n",
      "[2023-12-15 12:02:15,864: INFO: common: created directory at: artifacts/data_transformation]\n",
      "[2023-12-15 12:02:16,001: INFO: 3677636830: Transformed and splitted data]\n",
      "[2023-12-15 12:02:16,002: INFO: 3677636830: (4922, 37)]\n",
      "[2023-12-15 12:02:16,002: INFO: 3677636830: (2110, 37)]\n"
     ]
    }
   ],
   "source": [
    "try:\n",
    "    config = ConfigurationManager()\n",
    "    data_transformation_config = config.get_data_transformation_config()\n",
    "    data_transformation = DataTransformation(config = data_transformation_config)\n",
    "    data_transformation.get_train_test_data()\n",
    "\n",
    "except Exception as e:\n",
    "    raise e"
   ]
  },
  {
   "cell_type": "code",
   "execution_count": null,
   "metadata": {},
   "outputs": [],
   "source": []
  }
 ],
 "metadata": {
  "kernelspec": {
   "display_name": "venv",
   "language": "python",
   "name": "python3"
  },
  "language_info": {
   "codemirror_mode": {
    "name": "ipython",
    "version": 3
   },
   "file_extension": ".py",
   "mimetype": "text/x-python",
   "name": "python",
   "nbconvert_exporter": "python",
   "pygments_lexer": "ipython3",
   "version": "3.11.4"
  }
 },
 "nbformat": 4,
 "nbformat_minor": 2
}
