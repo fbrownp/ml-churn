{
 "cells": [
  {
   "cell_type": "code",
   "execution_count": 1,
   "metadata": {},
   "outputs": [],
   "source": [
    "import os"
   ]
  },
  {
   "cell_type": "code",
   "execution_count": 2,
   "metadata": {},
   "outputs": [
    {
     "data": {
      "text/plain": [
       "'d:\\\\Repositories\\\\ml-churn\\\\research'"
      ]
     },
     "execution_count": 2,
     "metadata": {},
     "output_type": "execute_result"
    }
   ],
   "source": [
    "%pwd"
   ]
  },
  {
   "cell_type": "code",
   "execution_count": 3,
   "metadata": {},
   "outputs": [],
   "source": [
    "os.chdir(\"d://Repositories/ml-churn/\")"
   ]
  },
  {
   "cell_type": "code",
   "execution_count": 4,
   "metadata": {},
   "outputs": [
    {
     "data": {
      "text/plain": [
       "'d:\\\\Repositories\\\\ml-churn'"
      ]
     },
     "execution_count": 4,
     "metadata": {},
     "output_type": "execute_result"
    }
   ],
   "source": [
    "%pwd"
   ]
  },
  {
   "cell_type": "code",
   "execution_count": 5,
   "metadata": {},
   "outputs": [],
   "source": [
    "from dataclasses import dataclass\n",
    "from pathlib import Path\n",
    "\n",
    "@dataclass(frozen=True)\n",
    "class DataTransformationConfig:\n",
    "    root_dir: Path\n",
    "    data_path: Path\n",
    "    transformation_path: Path"
   ]
  },
  {
   "cell_type": "code",
   "execution_count": 6,
   "metadata": {},
   "outputs": [],
   "source": [
    "from Churn_analysis.constants import *\n",
    "from Churn_analysis.utils.common import read_yaml, create_directories"
   ]
  },
  {
   "cell_type": "code",
   "execution_count": 7,
   "metadata": {},
   "outputs": [],
   "source": [
    "class ConfigurationManager:\n",
    "    def __init__(self,\n",
    "                 config_filepath = CONFIG_FILE_PATH,\n",
    "                 params_filepath = PARAMS_FILE_PATH,\n",
    "                 schema_filepath = SCHEMA_FILE_PATH):\n",
    "        self.config = read_yaml(config_filepath)\n",
    "        self.params = read_yaml(params_filepath)\n",
    "        self.schema = read_yaml(schema_filepath)\n",
    "        create_directories([self.config.artifacts_root])\n",
    "\n",
    "\n",
    "    def get_data_transformation_config(self) -> DataTransformationConfig:\n",
    "        config = self.config.data_transformation\n",
    "\n",
    "        create_directories([config.root_dir])\n",
    "\n",
    "        data_transformation_config = DataTransformationConfig(\n",
    "            root_dir=config.root_dir,\n",
    "            data_path=config.data_path,\n",
    "            transformation_path= config.transformation_path\n",
    "            )\n",
    "        return data_transformation_config"
   ]
  },
  {
   "cell_type": "code",
   "execution_count": 8,
   "metadata": {},
   "outputs": [],
   "source": [
    "import os \n",
    "from Churn_analysis import logger\n",
    "import pandas as pd\n",
    "from sklearn.preprocessing import LabelEncoder, OneHotEncoder, StandardScaler, FunctionTransformer, OrdinalEncoder\n",
    "from sklearn.compose import ColumnTransformer\n",
    "\n",
    "from sklearn.model_selection import train_test_split\n",
    "from Churn_analysis.utils.common import save_object\n",
    "\n"
   ]
  },
  {
   "cell_type": "code",
   "execution_count": 11,
   "metadata": {},
   "outputs": [],
   "source": [
    "class DataTransformation():\n",
    "    def __init__(self, config: DataTransformationConfig):\n",
    "        self.config = config\n",
    "\n",
    "\n",
    "    def get_train_test_data(self):\n",
    "        \"\"\"\n",
    "        Function that get the data, apply \n",
    "        get_dummies to categorical data, StandardScaler to numeric\n",
    "        and LabelEncoder for choice data.\n",
    "        It also drop unnecesary columns\n",
    "        \"\"\"\n",
    "        # Reading files\n",
    "        data = pd.read_csv(self.config.data_path)\n",
    "\n",
    "\n",
    "\n",
    "        Ordinal_variables = [\"gender\", \"SeniorCitizen\",\"Partner\",\"Dependents\",\"Churn\"]\n",
    "        Numeric_variables = [\"tenure\",\"MonthlyCharges\",\"TotalCharges\"]\n",
    "        One_hot_variables = [\"PhoneService\",\"MultipleLines\", \"InternetService\",\"OnlineSecurity\",\"OnlineBackup\",\n",
    "                            \"DeviceProtection\",\"TechSupport\",\"StreamingTV\",\"StreamingMovies\",\"Contract\",\"PaperlessBilling\",\n",
    "                            \"PaymentMethod\"]\n",
    "\n",
    "        #------------Complete data transformation-----------------------------------------------------------\n",
    "        preprocessor = ColumnTransformer(transformers=[\n",
    "                                        (\"Ordinal\", OrdinalEncoder(), Ordinal_variables),\n",
    "                                        (\"Standard\", StandardScaler(), Numeric_variables),\n",
    "                                        (\"Onehot\", OneHotEncoder(), One_hot_variables)\n",
    "                                        ])\n",
    "\n",
    "        input_encoder = preprocessor.fit(data.drop(columns=[\"customerID\"]))\n",
    "\n",
    "        Encoded_data = input_encoder.transform(data.drop(columns=[\"customerID\"]))\n",
    "        Encoded_df = pd.DataFrame(Encoded_data , columns= preprocessor.get_feature_names_out())\n",
    "\n",
    "        Encoded_df.drop(columns= [\"Onehot__OnlineSecurity_No internet service\",\n",
    "                                  \"Onehot__OnlineBackup_No internet service\",\n",
    "                                  \"Onehot__DeviceProtection_No internet service\",\n",
    "                                  \"Onehot__TechSupport_No internet service\",\n",
    "                                  \"Onehot__StreamingTV_No internet service\",\n",
    "                                  \"Onehot__StreamingMovies_No internet service\"], inplace= True)\n",
    "        \n",
    "        # --------------------------------------------------------------------------------------------------\n",
    "        save_object(self.config.transformation_path, preprocessor)\n",
    "\n",
    "        # Splitting the data\n",
    "        train, test = train_test_split(Encoded_df,test_size=0.3, random_state=42, stratify=data[\"Churn\"] )\n",
    "        \n",
    "        train.to_csv(os.path.join(self.config.root_dir, \"train.csv\"), index= False)\n",
    "        test.to_csv(os.path.join(self.config.root_dir, \"test.csv\"), index= False)\n",
    "\n",
    "        strat_test  = test[test[\"Ordinal__Churn\"]==1].sum()/test[test[\"Ordinal__Churn\"]==1].count()\n",
    "        strat_train = train[train[\"Ordinal__Churn\"]==1].sum()/train[train[\"Ordinal__Churn\"]==1].count()\n",
    "\n",
    "        logger.info(f\"Transformed and splitted data, stratification of train data {strat_train} stratification of test data {strat_test}\")\n",
    "        logger.info(train.shape)\n",
    "        logger.info(test.shape)\n",
    "        "
   ]
  },
  {
   "cell_type": "code",
   "execution_count": 12,
   "metadata": {},
   "outputs": [
    {
     "name": "stdout",
     "output_type": "stream",
     "text": [
      "[2023-12-16 12:59:49,157: INFO: common: yaml file: config\\config.yaml loaded successfully]\n",
      "[2023-12-16 12:59:49,160: INFO: common: yaml file: params.yaml loaded successfully]\n",
      "[2023-12-16 12:59:49,168: INFO: common: yaml file: schema.yaml loaded successfully]\n",
      "[2023-12-16 12:59:49,169: INFO: common: created directory at: artifacts]\n",
      "[2023-12-16 12:59:49,170: INFO: common: created directory at: artifacts/data_transformation]\n"
     ]
    },
    {
     "name": "stdout",
     "output_type": "stream",
     "text": [
      "[2023-12-16 12:59:49,423: INFO: 1438513477: Transformed and splitted data, stratification of train data Ordinal__gender                                    0.503058\n",
      "Ordinal__SeniorCitizen                             0.256116\n",
      "Ordinal__Partner                                   0.361621\n",
      "Ordinal__Dependents                                0.167431\n",
      "Ordinal__Churn                                     1.000000\n",
      "Standard__tenure                                  -0.579689\n",
      "Standard__MonthlyCharges                           0.335271\n",
      "Standard__TotalCharges                            -0.318485\n",
      "Onehot__PhoneService_No                            0.091743\n",
      "Onehot__PhoneService_Yes                           0.908257\n",
      "Onehot__MultipleLines_No                           0.442661\n",
      "Onehot__MultipleLines_No phone service             0.091743\n",
      "Onehot__MultipleLines_Yes                          0.465596\n",
      "Onehot__InternetService_DSL                        0.246177\n",
      "Onehot__InternetService_Fiber optic                0.697248\n",
      "Onehot__InternetService_No                         0.056575\n",
      "Onehot__OnlineSecurity_No                          0.785168\n",
      "Onehot__OnlineSecurity_Yes                         0.158257\n",
      "Onehot__OnlineBackup_No                            0.659786\n",
      "Onehot__OnlineBackup_Yes                           0.283639\n",
      "Onehot__DeviceProtection_No                        0.645260\n",
      "Onehot__DeviceProtection_Yes                       0.298165\n",
      "Onehot__TechSupport_No                             0.775229\n",
      "Onehot__TechSupport_Yes                            0.168196\n",
      "Onehot__StreamingTV_No                             0.495413\n",
      "Onehot__StreamingTV_Yes                            0.448012\n",
      "Onehot__StreamingMovies_No                         0.500765\n",
      "Onehot__StreamingMovies_Yes                        0.442661\n",
      "Onehot__Contract_Month-to-month                    0.886086\n",
      "Onehot__Contract_One year                          0.085627\n",
      "Onehot__Contract_Two year                          0.028287\n",
      "Onehot__PaperlessBilling_No                        0.246942\n",
      "Onehot__PaperlessBilling_Yes                       0.753058\n",
      "Onehot__PaymentMethod_Bank transfer (automatic)    0.131498\n",
      "Onehot__PaymentMethod_Credit card (automatic)      0.125382\n",
      "Onehot__PaymentMethod_Electronic check             0.577982\n",
      "Onehot__PaymentMethod_Mailed check                 0.165138\n",
      "dtype: float64 stratification of test data Ordinal__gender                                    0.484848\n",
      "Ordinal__SeniorCitizen                             0.251337\n",
      "Ordinal__Partner                                   0.349376\n",
      "Ordinal__Dependents                                0.190731\n",
      "Ordinal__Churn                                     1.000000\n",
      "Standard__tenure                                  -0.608881\n",
      "Standard__MonthlyCharges                           0.286200\n",
      "Standard__TotalCharges                            -0.362027\n",
      "Onehot__PhoneService_No                            0.089127\n",
      "Onehot__PhoneService_Yes                           0.910873\n",
      "Onehot__MultipleLines_No                           0.481283\n",
      "Onehot__MultipleLines_No phone service             0.089127\n",
      "Onehot__MultipleLines_Yes                          0.429590\n",
      "Onehot__InternetService_DSL                        0.244207\n",
      "Onehot__InternetService_Fiber optic                0.686275\n",
      "Onehot__InternetService_No                         0.069519\n",
      "Onehot__OnlineSecurity_No                          0.773619\n",
      "Onehot__OnlineSecurity_Yes                         0.156863\n",
      "Onehot__OnlineBackup_No                            0.659537\n",
      "Onehot__OnlineBackup_Yes                           0.270945\n",
      "Onehot__DeviceProtection_No                        0.654189\n",
      "Onehot__DeviceProtection_Yes                       0.276292\n",
      "Onehot__TechSupport_No                             0.770053\n",
      "Onehot__TechSupport_Yes                            0.160428\n",
      "Onehot__StreamingTV_No                             0.524064\n",
      "Onehot__StreamingTV_Yes                            0.406417\n",
      "Onehot__StreamingMovies_No                         0.504456\n",
      "Onehot__StreamingMovies_Yes                        0.426025\n",
      "Onehot__Contract_Month-to-month                    0.884135\n",
      "Onehot__Contract_One year                          0.096257\n",
      "Onehot__Contract_Two year                          0.019608\n",
      "Onehot__PaperlessBilling_No                        0.260250\n",
      "Onehot__PaperlessBilling_Yes                       0.739750\n",
      "Onehot__PaymentMethod_Bank transfer (automatic)    0.153298\n",
      "Onehot__PaymentMethod_Credit card (automatic)      0.121212\n",
      "Onehot__PaymentMethod_Electronic check             0.561497\n",
      "Onehot__PaymentMethod_Mailed check                 0.163993\n",
      "dtype: float64]\n",
      "[2023-12-16 12:59:49,424: INFO: 1438513477: (4922, 37)]\n",
      "[2023-12-16 12:59:49,424: INFO: 1438513477: (2110, 37)]\n"
     ]
    }
   ],
   "source": [
    "try:\n",
    "    config = ConfigurationManager()\n",
    "    data_transformation_config = config.get_data_transformation_config()\n",
    "    data_transformation = DataTransformation(config = data_transformation_config)\n",
    "    data_transformation.get_train_test_data()\n",
    "\n",
    "except Exception as e:\n",
    "    raise e"
   ]
  },
  {
   "cell_type": "code",
   "execution_count": null,
   "metadata": {},
   "outputs": [],
   "source": []
  }
 ],
 "metadata": {
  "kernelspec": {
   "display_name": "venv",
   "language": "python",
   "name": "python3"
  },
  "language_info": {
   "codemirror_mode": {
    "name": "ipython",
    "version": 3
   },
   "file_extension": ".py",
   "mimetype": "text/x-python",
   "name": "python",
   "nbconvert_exporter": "python",
   "pygments_lexer": "ipython3",
   "version": "3.11.4"
  }
 },
 "nbformat": 4,
 "nbformat_minor": 2
}
