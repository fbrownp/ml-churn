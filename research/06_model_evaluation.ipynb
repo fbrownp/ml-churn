{
 "cells": [
  {
   "cell_type": "code",
   "execution_count": 117,
   "metadata": {},
   "outputs": [],
   "source": [
    "import os"
   ]
  },
  {
   "cell_type": "code",
   "execution_count": 118,
   "metadata": {},
   "outputs": [
    {
     "data": {
      "text/plain": [
       "'d:\\\\Repositories\\\\ml-churn'"
      ]
     },
     "execution_count": 118,
     "metadata": {},
     "output_type": "execute_result"
    }
   ],
   "source": [
    "%pwd"
   ]
  },
  {
   "cell_type": "code",
   "execution_count": 119,
   "metadata": {},
   "outputs": [],
   "source": [
    "os.chdir(\"d:/Repositories/ml-churn/\")"
   ]
  },
  {
   "cell_type": "code",
   "execution_count": 120,
   "metadata": {},
   "outputs": [],
   "source": [
    "os.environ[\"MLFLOW_TRACKING_URI\"]=\"https://dagshub.com/FBrownp/ml-churn.mlflow\"\n",
    "os.environ[\"MLFLOW_TRACKING_USERNAME\"]=\"FBrownp\"\n",
    "os.environ[\"MLFLOW_TRACKING_PASSWORD\"]=\"cceabdf6d4f5adc126b6cb03cc7cc4bf568e2591\""
   ]
  },
  {
   "cell_type": "code",
   "execution_count": 121,
   "metadata": {},
   "outputs": [],
   "source": [
    "from dataclasses import dataclass\n",
    "from pathlib import Path\n",
    "\n",
    "@dataclass(frozen=True)\n",
    "class ModelEvaluationConfig:\n",
    "    root_dir: Path\n",
    "    test_data_path: Path\n",
    "    model_path: Path\n",
    "    model_name: str\n",
    "    target_column: str \n",
    "    mlflow_uri: str\n",
    "    all_params: dict\n"
   ]
  },
  {
   "cell_type": "code",
   "execution_count": 122,
   "metadata": {},
   "outputs": [],
   "source": [
    "from Churn_analysis.constants import *\n",
    "from Churn_analysis.utils.common import read_yaml, create_directories"
   ]
  },
  {
   "cell_type": "code",
   "execution_count": 123,
   "metadata": {},
   "outputs": [],
   "source": [
    "class ConfigurationManager:\n",
    "    def __init__(self,\n",
    "                 config_filepath = CONFIG_FILE_PATH,\n",
    "                 params_filepath = PARAMS_FILE_PATH,\n",
    "                 schema_filepath = SCHEMA_FILE_PATH):\n",
    "        self.config = read_yaml(config_filepath)\n",
    "        self.params = read_yaml(params_filepath)\n",
    "        self.schema = read_yaml(schema_filepath)\n",
    "        create_directories([self.config.artifacts_root])\n",
    "\n",
    "\n",
    "    def get_model_evaluation_config(self) -> ModelEvaluationConfig:\n",
    "        config = self.config.model_evaluation\n",
    "        params = self.params.XGBoost\n",
    "        schema = self.schema.TARGET_COLUMN\n",
    "\n",
    "        create_directories([config.root_dir])\n",
    "\n",
    "        model_evaluation_config = ModelEvaluationConfig(\n",
    "            root_dir = config.root_dir,\n",
    "            test_data_path  = config.test_data_path,\n",
    "            model_path = config.model_path,\n",
    "            model_name = config.model_name_1,\n",
    "            target_column= schema.target_1,\n",
    "            mlflow_uri= \"https://dagshub.com/FBrownp/ml-churn.mlflow\",\n",
    "            all_params= params\n",
    "            )\n",
    "        return model_evaluation_config"
   ]
  },
  {
   "cell_type": "code",
   "execution_count": 125,
   "metadata": {},
   "outputs": [],
   "source": [
    "import os\n",
    "\n",
    "from xgboost import XGBClassifier\n",
    "from sklearn.metrics import confusion_matrix\n",
    "from sklearn.metrics import roc_curve, auc\n",
    "\n",
    "\n",
    "import joblib\n",
    "import pandas as pd\n",
    "\n",
    "\n",
    "from Churn_analysis.utils.common import save_json, calculate_metrics\n",
    "\n",
    "import mlflow\n",
    "import mlflow.xgboost\n",
    "from  urllib.parse import urlparse\n",
    "import numpy as np\n"
   ]
  },
  {
   "cell_type": "code",
   "execution_count": 106,
   "metadata": {},
   "outputs": [],
   "source": [
    "class ModelEvaluation():\n",
    "    def __init__(self, config: ModelEvaluationConfig):\n",
    "        self.config = config\n",
    "\n",
    "    def get_model_evaluation_object(self):\n",
    "        \n",
    "        test_data_df      = pd.read_csv(self.config.test_data_path)\n",
    "        \n",
    "        y_test = test_data_df[self.config.target_column]\n",
    "        X_test = test_data_df.drop(columns= self.config.target_column)\n",
    "\n",
    "        model = joblib.load(os.path.join(self.config.model_path,self.config.model_name))\n",
    "\n",
    "        conf_matrix = confusion_matrix(y_test, model.predict(X_test))\n",
    "\n",
    "        mlflow.set_registry_uri(self.config.mlflow_uri)\n",
    "        tracking_url_type_store = urlparse(mlflow.get_tracking_uri()).scheme\n",
    "\n",
    "\n",
    "\n",
    "        with mlflow.start_run():\n",
    "\n",
    "            scores = calculate_metrics(conf_matrix)\n",
    "            save_json(path= Path(os.path.join(self.config.root_dir,\"scores.json\")), data = scores)\n",
    "  \n",
    "            mlflow.log_params(self.config.all_params)\n",
    "\n",
    "            for key in scores.keys():\n",
    "                mlflow.log_metric(key,scores[key])\n",
    "\n",
    "\n",
    "            if tracking_url_type_store != \"file\":\n",
    "                mlflow.xgboost.log_model(model, \"Churn_model\", registered_model_name=\"Churn_model\")\n",
    "            else:\n",
    "                mlflow.xgboost.log_model(model, \"Churn_model\")\n",
    "\n"
   ]
  },
  {
   "cell_type": "code",
   "execution_count": 107,
   "metadata": {},
   "outputs": [
    {
     "name": "stdout",
     "output_type": "stream",
     "text": [
      "[2023-12-15 17:06:25,020: INFO: common: yaml file: config\\config.yaml loaded successfully]\n",
      "[2023-12-15 17:06:25,023: INFO: common: yaml file: params.yaml loaded successfully]\n",
      "[2023-12-15 17:06:25,026: INFO: common: yaml file: schema.yaml loaded successfully]\n",
      "[2023-12-15 17:06:25,027: INFO: common: created directory at: artifacts]\n",
      "[2023-12-15 17:06:25,028: INFO: common: created directory at: artifacts/model_evaluation]\n"
     ]
    },
    {
     "ename": "NameError",
     "evalue": "name 'np' is not defined",
     "output_type": "error",
     "traceback": [
      "\u001b[1;31m---------------------------------------------------------------------------\u001b[0m",
      "\u001b[1;31mNameError\u001b[0m                                 Traceback (most recent call last)",
      "Cell \u001b[1;32mIn[107], line 8\u001b[0m\n\u001b[0;32m      5\u001b[0m     model_evaluation\u001b[38;5;241m.\u001b[39mget_model_evaluation_object()\n\u001b[0;32m      7\u001b[0m \u001b[38;5;28;01mexcept\u001b[39;00m \u001b[38;5;167;01mException\u001b[39;00m \u001b[38;5;28;01mas\u001b[39;00m e:\n\u001b[1;32m----> 8\u001b[0m     \u001b[38;5;28;01mraise\u001b[39;00m e\n",
      "Cell \u001b[1;32mIn[107], line 5\u001b[0m\n\u001b[0;32m      3\u001b[0m     model_evaluation_config \u001b[38;5;241m=\u001b[39m config\u001b[38;5;241m.\u001b[39mget_model_evaluation_config()\n\u001b[0;32m      4\u001b[0m     model_evaluation \u001b[38;5;241m=\u001b[39m ModelEvaluation(config \u001b[38;5;241m=\u001b[39m model_evaluation_config)\n\u001b[1;32m----> 5\u001b[0m     \u001b[43mmodel_evaluation\u001b[49m\u001b[38;5;241;43m.\u001b[39;49m\u001b[43mget_model_evaluation_object\u001b[49m\u001b[43m(\u001b[49m\u001b[43m)\u001b[49m\n\u001b[0;32m      7\u001b[0m \u001b[38;5;28;01mexcept\u001b[39;00m \u001b[38;5;167;01mException\u001b[39;00m \u001b[38;5;28;01mas\u001b[39;00m e:\n\u001b[0;32m      8\u001b[0m     \u001b[38;5;28;01mraise\u001b[39;00m e\n",
      "Cell \u001b[1;32mIn[106], line 23\u001b[0m, in \u001b[0;36mModelEvaluation.get_model_evaluation_object\u001b[1;34m(self)\u001b[0m\n\u001b[0;32m     17\u001b[0m tracking_url_type_store \u001b[38;5;241m=\u001b[39m urlparse(mlflow\u001b[38;5;241m.\u001b[39mget_tracking_uri())\u001b[38;5;241m.\u001b[39mscheme\n\u001b[0;32m     21\u001b[0m \u001b[38;5;28;01mwith\u001b[39;00m mlflow\u001b[38;5;241m.\u001b[39mstart_run():\n\u001b[1;32m---> 23\u001b[0m     scores \u001b[38;5;241m=\u001b[39m \u001b[43mcalculate_metrics\u001b[49m\u001b[43m(\u001b[49m\u001b[43mconf_matrix\u001b[49m\u001b[43m)\u001b[49m\n\u001b[0;32m     24\u001b[0m     save_json(path\u001b[38;5;241m=\u001b[39m Path(os\u001b[38;5;241m.\u001b[39mpath\u001b[38;5;241m.\u001b[39mjoin(\u001b[38;5;28mself\u001b[39m\u001b[38;5;241m.\u001b[39mconfig\u001b[38;5;241m.\u001b[39mroot_dir,\u001b[38;5;124m\"\u001b[39m\u001b[38;5;124mscores.json\u001b[39m\u001b[38;5;124m\"\u001b[39m)), data \u001b[38;5;241m=\u001b[39m scores)\n\u001b[0;32m     26\u001b[0m     mlflow\u001b[38;5;241m.\u001b[39mlog_params(\u001b[38;5;28mself\u001b[39m\u001b[38;5;241m.\u001b[39mconfig\u001b[38;5;241m.\u001b[39mall_params)\n",
      "File \u001b[1;32md:\\Repositories\\ml-churn\\src\\Churn_analysis\\utils\\common.py:177\u001b[0m, in \u001b[0;36mcalculate_metrics\u001b[1;34m(conf_matrix)\u001b[0m\n\u001b[0;32m    175\u001b[0m fdr \u001b[38;5;241m=\u001b[39m FP \u001b[38;5;241m/\u001b[39m (TP \u001b[38;5;241m+\u001b[39m FP)\n\u001b[0;32m    176\u001b[0m fnr \u001b[38;5;241m=\u001b[39m FN \u001b[38;5;241m/\u001b[39m (TP \u001b[38;5;241m+\u001b[39m FN)\n\u001b[1;32m--> 177\u001b[0m mcc \u001b[38;5;241m=\u001b[39m (TP \u001b[38;5;241m*\u001b[39m TN \u001b[38;5;241m-\u001b[39m FP \u001b[38;5;241m*\u001b[39m FN) \u001b[38;5;241m/\u001b[39m \u001b[43mnp\u001b[49m\u001b[38;5;241m.\u001b[39msqrt((TP \u001b[38;5;241m+\u001b[39m FP) \u001b[38;5;241m*\u001b[39m (TP \u001b[38;5;241m+\u001b[39m FN) \u001b[38;5;241m*\u001b[39m (TN \u001b[38;5;241m+\u001b[39m FP) \u001b[38;5;241m*\u001b[39m (TN \u001b[38;5;241m+\u001b[39m FN))\n\u001b[0;32m    179\u001b[0m \u001b[38;5;66;03m# Create a dictionary to store the metrics\u001b[39;00m\n\u001b[0;32m    180\u001b[0m metrics_dict \u001b[38;5;241m=\u001b[39m {\n\u001b[0;32m    181\u001b[0m     \u001b[38;5;124m'\u001b[39m\u001b[38;5;124mAccuracy\u001b[39m\u001b[38;5;124m'\u001b[39m: accuracy,\n\u001b[0;32m    182\u001b[0m     \u001b[38;5;124m'\u001b[39m\u001b[38;5;124mPrecision\u001b[39m\u001b[38;5;124m'\u001b[39m: precision,\n\u001b[1;32m   (...)\u001b[0m\n\u001b[0;32m    189\u001b[0m     \u001b[38;5;124m'\u001b[39m\u001b[38;5;124mMatthews Correlation Coefficient (MCC)\u001b[39m\u001b[38;5;124m'\u001b[39m: mcc,\n\u001b[0;32m    190\u001b[0m }\n",
      "\u001b[1;31mNameError\u001b[0m: name 'np' is not defined"
     ]
    }
   ],
   "source": [
    "try:\n",
    "    config = ConfigurationManager()\n",
    "    model_evaluation_config = config.get_model_evaluation_config()\n",
    "    model_evaluation = ModelEvaluation(config = model_evaluation_config)\n",
    "    model_evaluation.get_model_evaluation_object()\n",
    "\n",
    "except Exception as e:\n",
    "    raise e"
   ]
  }
 ],
 "metadata": {
  "kernelspec": {
   "display_name": "venv",
   "language": "python",
   "name": "python3"
  },
  "language_info": {
   "codemirror_mode": {
    "name": "ipython",
    "version": 3
   },
   "file_extension": ".py",
   "mimetype": "text/x-python",
   "name": "python",
   "nbconvert_exporter": "python",
   "pygments_lexer": "ipython3",
   "version": "3.11.4"
  }
 },
 "nbformat": 4,
 "nbformat_minor": 2
}
