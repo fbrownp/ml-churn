{
 "cells": [
  {
   "cell_type": "code",
   "execution_count": 2,
   "metadata": {},
   "outputs": [],
   "source": [
    "import os"
   ]
  },
  {
   "cell_type": "code",
   "execution_count": 3,
   "metadata": {},
   "outputs": [
    {
     "data": {
      "text/plain": [
       "'d:\\\\Repositories\\\\ml-churn\\\\research'"
      ]
     },
     "execution_count": 3,
     "metadata": {},
     "output_type": "execute_result"
    }
   ],
   "source": [
    "%pwd"
   ]
  },
  {
   "cell_type": "code",
   "execution_count": 4,
   "metadata": {},
   "outputs": [],
   "source": [
    "os.chdir(\"d:/Repositories/ml-churn/\")"
   ]
  },
  {
   "cell_type": "code",
   "execution_count": 5,
   "metadata": {},
   "outputs": [],
   "source": [
    "## Here comes the keys for mlflow"
   ]
  },
  {
   "cell_type": "code",
   "execution_count": 6,
   "metadata": {},
   "outputs": [],
   "source": [
    "from dataclasses import dataclass\n",
    "from pathlib import Path\n",
    "\n",
    "@dataclass(frozen=True)\n",
    "class ModelEvaluationConfig:\n",
    "    root_dir: Path\n",
    "    test_data_path: Path\n",
    "    model_path: Path\n",
    "    model_name: str\n",
    "    target_column: str \n",
    "    mlflow_uri: str\n",
    "    all_params: dict\n"
   ]
  },
  {
   "cell_type": "code",
   "execution_count": 7,
   "metadata": {},
   "outputs": [],
   "source": [
    "from Churn_analysis.constants import *\n",
    "from Churn_analysis.utils.common import read_yaml, create_directories"
   ]
  },
  {
   "cell_type": "code",
   "execution_count": 8,
   "metadata": {},
   "outputs": [],
   "source": [
    "class ConfigurationManager:\n",
    "    def __init__(self,\n",
    "                 config_filepath = CONFIG_FILE_PATH,\n",
    "                 params_filepath = PARAMS_FILE_PATH,\n",
    "                 schema_filepath = SCHEMA_FILE_PATH):\n",
    "        self.config = read_yaml(config_filepath)\n",
    "        self.params = read_yaml(params_filepath)\n",
    "        self.schema = read_yaml(schema_filepath)\n",
    "        create_directories([self.config.artifacts_root])\n",
    "\n",
    "\n",
    "    def get_model_evaluation_config(self) -> ModelEvaluationConfig:\n",
    "        config = self.config.model_evaluation\n",
    "        params = self.params.XGBoost\n",
    "        schema = self.schema.TARGET_COLUMN\n",
    "\n",
    "        create_directories([config.root_dir])\n",
    "\n",
    "        model_evaluation_config = ModelEvaluationConfig(\n",
    "            root_dir = config.root_dir,\n",
    "            test_data_path  = config.test_data_path,\n",
    "            model_path = config.model_path,\n",
    "            model_name = config.model_name_1,\n",
    "            target_column= schema.target_1,\n",
    "            mlflow_uri= \"https://dagshub.com/FBrownp/ml-churn.mlflow\",\n",
    "            all_params= params\n",
    "            )\n",
    "        return model_evaluation_config"
   ]
  },
  {
   "cell_type": "code",
   "execution_count": 9,
   "metadata": {},
   "outputs": [],
   "source": [
    "import os\n",
    "\n",
    "from xgboost import XGBClassifier\n",
    "from sklearn.metrics import confusion_matrix\n",
    "from sklearn.metrics import roc_curve, auc\n",
    "\n",
    "\n",
    "import joblib\n",
    "import pandas as pd\n",
    "\n",
    "\n",
    "from Churn_analysis.utils.common import save_json, calculate_metrics\n",
    "\n",
    "import mlflow\n",
    "import mlflow.xgboost\n",
    "from  urllib.parse import urlparse\n"
   ]
  },
  {
   "cell_type": "code",
   "execution_count": 12,
   "metadata": {},
   "outputs": [],
   "source": [
    "class ModelEvaluation():\n",
    "    def __init__(self, config: ModelEvaluationConfig):\n",
    "        self.config = config\n",
    "\n",
    "    def get_model_evaluation_object(self):\n",
    "        \n",
    "        test_data_df      = pd.read_csv(self.config.test_data_path)\n",
    "        \n",
    "        y_test = test_data_df[self.config.target_column]\n",
    "        X_test = test_data_df.drop(columns= self.config.target_column)\n",
    "\n",
    "        model = joblib.load(os.path.join(self.config.model_path,self.config.model_name))\n",
    "\n",
    "        conf_matrix = confusion_matrix(y_test, model.predict(X_test))\n",
    "\n",
    "        y_proba = model.predict_proba(X_test)[:, 1]\n",
    "        # Compute ROC curve and AUC\n",
    "        fpr, tpr, thresholds = roc_curve(y_test, y_proba)\n",
    "        roc_auc = auc(fpr, tpr)\n",
    "\n",
    "\n",
    "\n",
    "        mlflow.set_registry_uri(self.config.mlflow_uri)\n",
    "        tracking_url_type_store = urlparse(mlflow.get_tracking_uri()).scheme\n",
    "\n",
    "\n",
    "\n",
    "        with mlflow.start_run() as run:\n",
    "            run_id = run.info.run_uuid\n",
    "\n",
    "            scores = calculate_metrics(conf_matrix)\n",
    "            save_json(path= Path(os.path.join(self.config.root_dir,\"scores.json\")), data = scores)\n",
    "  \n",
    "            mlflow.log_params(self.config.all_params)\n",
    "\n",
    "            for key in scores.keys():\n",
    "                mlflow.log_metric(key,scores[key])\n",
    "                print(key,scores[key])\n",
    "            mlflow.log_metric(\"ROC_AUC\",roc_auc)\n",
    "\n",
    "            if tracking_url_type_store != \"file\":\n",
    "                mlflow.xgboost.log_model(model, \"Churn_model\", registered_model_name=\"Churn_model\")\n",
    "            else:\n",
    "                mlflow.xgboost.log_model(model, \"Churn_model\")\n",
    "\n"
   ]
  },
  {
   "cell_type": "code",
   "execution_count": 13,
   "metadata": {},
   "outputs": [
    {
     "name": "stdout",
     "output_type": "stream",
     "text": [
      "[2024-01-20 13:23:55,114: INFO: common: yaml file: config\\config.yaml loaded successfully]\n",
      "[2024-01-20 13:23:55,117: INFO: common: yaml file: params.yaml loaded successfully]\n",
      "[2024-01-20 13:23:55,119: INFO: common: yaml file: schema.yaml loaded successfully]\n",
      "[2024-01-20 13:23:55,121: INFO: common: created directory at: artifacts]\n",
      "[2024-01-20 13:23:55,122: INFO: common: created directory at: artifacts/model_evaluation]\n",
      "[2024-01-20 13:23:55,278: INFO: common: json file saved at: artifacts\\model_evaluation\\scores.json]\n",
      "Accuracy 0.7924170616113744\n",
      "Precision 0.600326264274062\n",
      "Recall 0.6559714795008913\n",
      "Specificity 0.841833440929632\n",
      "F1 Score 0.6269165247018741\n",
      "FPR 0.15816655907036797\n",
      "FDR 0.399673735725938\n",
      "FNR 0.34402852049910876\n",
      "MCC 0.48442348202857055\n"
     ]
    },
    {
     "name": "stderr",
     "output_type": "stream",
     "text": [
      "d:\\Repositories\\ml-churn\\venv\\Lib\\site-packages\\xgboost\\core.py:160: UserWarning: [13:23:55] WARNING: C:\\buildkite-agent\\builds\\buildkite-windows-cpu-autoscaling-group-i-0750514818a16474a-1\\xgboost\\xgboost-ci-windows\\src\\c_api\\c_api.cc:1240: Saving into deprecated binary model format, please consider using `json` or `ubj`. Model format will default to JSON in XGBoost 2.2 if not specified.\n",
      "  warnings.warn(smsg, UserWarning)\n",
      "d:\\Repositories\\ml-churn\\venv\\Lib\\site-packages\\_distutils_hack\\__init__.py:33: UserWarning: Setuptools is replacing distutils.\n",
      "  warnings.warn(\"Setuptools is replacing distutils.\")\n"
     ]
    }
   ],
   "source": [
    "try:\n",
    "    config = ConfigurationManager()\n",
    "    model_evaluation_config = config.get_model_evaluation_config()\n",
    "    model_evaluation = ModelEvaluation(config = model_evaluation_config)\n",
    "    model_evaluation.get_model_evaluation_object()\n",
    "\n",
    "except Exception as e:\n",
    "    raise e"
   ]
  },
  {
   "cell_type": "code",
   "execution_count": null,
   "metadata": {},
   "outputs": [],
   "source": []
  },
  {
   "cell_type": "code",
   "execution_count": null,
   "metadata": {},
   "outputs": [],
   "source": []
  }
 ],
 "metadata": {
  "kernelspec": {
   "display_name": "venv",
   "language": "python",
   "name": "python3"
  },
  "language_info": {
   "codemirror_mode": {
    "name": "ipython",
    "version": 3
   },
   "file_extension": ".py",
   "mimetype": "text/x-python",
   "name": "python",
   "nbconvert_exporter": "python",
   "pygments_lexer": "ipython3",
   "version": "3.11.4"
  }
 },
 "nbformat": 4,
 "nbformat_minor": 2
}
