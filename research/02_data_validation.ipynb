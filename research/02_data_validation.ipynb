{
 "cells": [
  {
   "cell_type": "code",
   "execution_count": 3,
   "metadata": {},
   "outputs": [],
   "source": [
    "import os"
   ]
  },
  {
   "cell_type": "code",
   "execution_count": 4,
   "metadata": {},
   "outputs": [
    {
     "data": {
      "text/plain": [
       "'d:\\\\Repositories\\\\ml-churn\\\\research'"
      ]
     },
     "execution_count": 4,
     "metadata": {},
     "output_type": "execute_result"
    }
   ],
   "source": [
    "%pwd"
   ]
  },
  {
   "cell_type": "code",
   "execution_count": 7,
   "metadata": {},
   "outputs": [],
   "source": [
    "os.chdir(\"d://Repositories/ml-churn/\")"
   ]
  },
  {
   "cell_type": "code",
   "execution_count": 8,
   "metadata": {},
   "outputs": [
    {
     "data": {
      "text/plain": [
       "'d:\\\\Repositories\\\\ml-churn'"
      ]
     },
     "execution_count": 8,
     "metadata": {},
     "output_type": "execute_result"
    }
   ],
   "source": [
    "%pwd"
   ]
  },
  {
   "cell_type": "code",
   "execution_count": 9,
   "metadata": {},
   "outputs": [],
   "source": [
    "from dataclasses import dataclass\n",
    "from pathlib import Path\n",
    "\n",
    "@dataclass(frozen=True)\n",
    "class DataValidationConfig:\n",
    "    root_dir: Path\n",
    "    STATUS_FILE: str\n",
    "    STATUS_FILE_DTYPE: str\n",
    "    unzip_data_dir: Path \n",
    "    all_schema: dict"
   ]
  },
  {
   "cell_type": "code",
   "execution_count": 10,
   "metadata": {},
   "outputs": [],
   "source": [
    "from Churn_analysis.constants import *\n",
    "from Churn_analysis.utils.common import read_yaml, create_directories"
   ]
  },
  {
   "cell_type": "code",
   "execution_count": 11,
   "metadata": {},
   "outputs": [],
   "source": [
    "class ConfigurationManager:\n",
    "    def __init__(self,\n",
    "                 config_filepath = CONFIG_FILE_PATH,\n",
    "                 params_filepath = PARAMS_FILE_PATH,\n",
    "                 schema_filepath = SCHEMA_FILE_PATH):\n",
    "        self.config = read_yaml(config_filepath)\n",
    "        self.params = read_yaml(params_filepath)\n",
    "        self.schema = read_yaml(schema_filepath)\n",
    "        create_directories([self.config.artifacts_root])\n",
    "\n",
    "\n",
    "    def get_data_validation_config(self) -> DataValidationConfig:\n",
    "        config = self.config.data_validation\n",
    "        schema = self.schema.COLUMNS\n",
    "\n",
    "        create_directories([config.root_dir])\n",
    "\n",
    "        data_validation_config = DataValidationConfig(\n",
    "            root_dir=config.root_dir,\n",
    "            STATUS_FILE= config.STATUS_FILE,\n",
    "            STATUS_FILE_DTYPE = config.STATUS_FILE_DTYPE,\n",
    "            unzip_data_dir= config.unzip_data_dir,\n",
    "            all_schema = schema,\n",
    "            )\n",
    "        return data_validation_config\n",
    "    "
   ]
  },
  {
   "cell_type": "code",
   "execution_count": 14,
   "metadata": {},
   "outputs": [],
   "source": [
    "import os \n",
    "from Churn_analysis import logger\n",
    "import pandas as pd\n",
    "\n",
    "class DataValidation():\n",
    "    def __init__(self, config: DataValidationConfig):\n",
    "        self.config = config\n",
    "\n",
    "    def validate_all_columns(self) -> bool:\n",
    "        try:\n",
    "            validation_status = None\n",
    "\n",
    "            data = pd.read_csv(self.config.unzip_data_dir)\n",
    "            all_cols = list(data.columns)\n",
    "            all_schema = self.config.all_schema.keys()\n",
    "\n",
    "            if all_cols != list(all_schema):\n",
    "                validation_status = False\n",
    "                with open(self.config.STATUS_FILE, \"w\") as f:\n",
    "                    f.write(f\"Validation status: {validation_status}\")\n",
    "                    logger.info(f\"Validation status of columns names: {validation_status}\")\n",
    "\n",
    "            else:\n",
    "                validation_status =  True\n",
    "                with open(self.config.STATUS_FILE, \"w\") as f:\n",
    "                    f.write(f\"Validation status: {validation_status}\")\n",
    "                    logger.info(f\"Validation status of columns names: {validation_status}\")\n",
    "\n",
    "\n",
    "        except Exception as e:\n",
    "            raise e\n",
    "        \n",
    "\n",
    "    def validate_all_columns_dtypes(self) -> bool:\n",
    "        try:\n",
    "            validation_status = None\n",
    "\n",
    "            data = pd.read_csv(self.config.unzip_data_dir)\n",
    "            all_cols = list(data.dtypes)\n",
    "            all_schema = self.config.all_schema.values()\n",
    "\n",
    "\n",
    "            if all_cols != list(all_schema):\n",
    "                validation_status = False\n",
    "                with open(self.config.STATUS_FILE_DTYPE, \"w\") as f:\n",
    "                    f.write(f\"Validation status: {validation_status}\")\n",
    "                    logger.info(f\"Validation status of columns dtypes: {validation_status}\")\n",
    "            else:\n",
    "                validation_status =  True\n",
    "                with open(self.config.STATUS_FILE_DTYPE, \"w\") as f:\n",
    "                    f.write(f\"Validation status: {validation_status}\")\n",
    "                    logger.info(f\"Validation status of columns dtypes: {validation_status}\")\n",
    "        except Exception as e:\n",
    "            raise e"
   ]
  },
  {
   "cell_type": "code",
   "execution_count": 17,
   "metadata": {},
   "outputs": [
    {
     "name": "stdout",
     "output_type": "stream",
     "text": [
      "[2023-12-15 11:32:50,579: INFO: common: yaml file: config\\config.yaml loaded successfully]\n",
      "[2023-12-15 11:32:50,581: INFO: common: yaml file: params.yaml loaded successfully]\n",
      "[2023-12-15 11:32:50,589: INFO: common: yaml file: schema.yaml loaded successfully]\n",
      "[2023-12-15 11:32:50,590: INFO: common: created directory at: artifacts]\n",
      "[2023-12-15 11:32:50,591: INFO: common: created directory at: artifacts/data_validation]\n",
      "[2023-12-15 11:32:50,616: INFO: 3548911761: Validation status of columns names: True]\n",
      "[2023-12-15 11:32:50,642: INFO: 3548911761: Validation status of columns dtypes: True]\n"
     ]
    }
   ],
   "source": [
    "try:\n",
    "    config = ConfigurationManager()\n",
    "    data_validation_config = config.get_data_validation_config()\n",
    "    data_validation = DataValidation(config = data_validation_config)\n",
    "    data_validation.validate_all_columns()\n",
    "    data_validation.validate_all_columns_dtypes()\n",
    "\n",
    "except Exception as e:\n",
    "    raise e"
   ]
  },
  {
   "cell_type": "code",
   "execution_count": null,
   "metadata": {},
   "outputs": [],
   "source": []
  }
 ],
 "metadata": {
  "kernelspec": {
   "display_name": "venv",
   "language": "python",
   "name": "python3"
  },
  "language_info": {
   "codemirror_mode": {
    "name": "ipython",
    "version": 3
   },
   "file_extension": ".py",
   "mimetype": "text/x-python",
   "name": "python",
   "nbconvert_exporter": "python",
   "pygments_lexer": "ipython3",
   "version": "3.11.4"
  }
 },
 "nbformat": 4,
 "nbformat_minor": 2
}
