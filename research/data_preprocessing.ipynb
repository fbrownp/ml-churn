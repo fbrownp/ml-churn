{
 "cells": [
  {
   "cell_type": "code",
   "execution_count": 168,
   "metadata": {},
   "outputs": [],
   "source": [
    "import polars as pl\n",
    "import os"
   ]
  },
  {
   "cell_type": "code",
   "execution_count": 169,
   "metadata": {},
   "outputs": [
    {
     "data": {
      "text/plain": [
       "'d:\\\\Repositories\\\\ml-churn'"
      ]
     },
     "execution_count": 169,
     "metadata": {},
     "output_type": "execute_result"
    }
   ],
   "source": [
    "%pwd"
   ]
  },
  {
   "cell_type": "markdown",
   "metadata": {},
   "source": [
    "### Setting up directory"
   ]
  },
  {
   "cell_type": "code",
   "execution_count": 170,
   "metadata": {},
   "outputs": [],
   "source": [
    "os.chdir(\"d://Repositories/ml-churn/\")"
   ]
  },
  {
   "cell_type": "markdown",
   "metadata": {},
   "source": [
    "### Read excel tables"
   ]
  },
  {
   "cell_type": "code",
   "execution_count": 171,
   "metadata": {},
   "outputs": [],
   "source": [
    "churn_demo  = pl.read_excel(\"artifacts\\data_preprocessing\\Telco_customer_churn_demographics.xlsx\")\n",
    "churn_loca  = pl.read_excel(\"artifacts\\data_preprocessing\\Telco_customer_churn_location.xlsx\")\n",
    "churn_serv  = pl.read_excel(\"artifacts\\data_preprocessing\\Telco_customer_churn_services.xlsx\")\n",
    "churn_stat  = pl.read_excel(\"artifacts\\data_preprocessing\\Telco_customer_churn_status.xlsx\")"
   ]
  },
  {
   "cell_type": "markdown",
   "metadata": {},
   "source": [
    "### Join usable tables"
   ]
  },
  {
   "cell_type": "code",
   "execution_count": 172,
   "metadata": {},
   "outputs": [],
   "source": [
    "new_tab = churn_demo.join(\n",
    "   churn_loca,how=\"left\", on=\"Customer ID\"\n",
    ").join(\n",
    "   churn_serv,how=\"left\", on=[\"Customer ID\",\"Count\"]\n",
    ").join(\n",
    "   churn_stat,how=\"left\", on=[\"Customer ID\",\"Count\"]\n",
    ")"
   ]
  },
  {
   "cell_type": "markdown",
   "metadata": {},
   "source": [
    "### Inspect column dtypes, and determine usefull columns"
   ]
  },
  {
   "cell_type": "code",
   "execution_count": 173,
   "metadata": {},
   "outputs": [
    {
     "data": {
      "text/html": [
       "<div><style>\n",
       ".dataframe > thead > tr,\n",
       ".dataframe > tbody > tr {\n",
       "  text-align: right;\n",
       "  white-space: pre-wrap;\n",
       "}\n",
       "</style>\n",
       "<small>shape: (5, 54)</small><table border=\"1\" class=\"dataframe\"><thead><tr><th>Customer ID</th><th>Count</th><th>Gender</th><th>Age</th><th>Under 30</th><th>Senior Citizen</th><th>Married</th><th>Dependents</th><th>Number of Dependents</th><th>Count_right</th><th>Country</th><th>State</th><th>City</th><th>Zip Code</th><th>Lat Long</th><th>Latitude</th><th>Longitude</th><th>Quarter</th><th>Referred a Friend</th><th>Number of Referrals</th><th>Tenure in Months</th><th>Offer</th><th>Phone Service</th><th>Avg Monthly Long Distance Charges</th><th>Multiple Lines</th><th>Internet Service</th><th>Internet Type</th><th>Avg Monthly GB Download</th><th>Online Security</th><th>Online Backup</th><th>Device Protection Plan</th><th>Premium Tech Support</th><th>Streaming TV</th><th>Streaming Movies</th><th>Streaming Music</th><th>Unlimited Data</th><th>Contract</th><th>Paperless Billing</th><th>Payment Method</th><th>Monthly Charge</th><th>Total Charges</th><th>Total Refunds</th><th>Total Extra Data Charges</th><th>Total Long Distance Charges</th><th>Total Revenue</th><th>Quarter_right</th><th>Satisfaction Score</th><th>Customer Status</th><th>Churn Label</th><th>Churn Value</th><th>Churn Score</th><th>CLTV</th><th>Churn Category</th><th>Churn Reason</th></tr><tr><td>str</td><td>i64</td><td>str</td><td>i64</td><td>str</td><td>str</td><td>str</td><td>str</td><td>i64</td><td>i64</td><td>str</td><td>str</td><td>str</td><td>i64</td><td>str</td><td>f64</td><td>f64</td><td>str</td><td>str</td><td>i64</td><td>i64</td><td>str</td><td>str</td><td>f64</td><td>str</td><td>str</td><td>str</td><td>i64</td><td>str</td><td>str</td><td>str</td><td>str</td><td>str</td><td>str</td><td>str</td><td>str</td><td>str</td><td>str</td><td>str</td><td>f64</td><td>f64</td><td>f64</td><td>i64</td><td>f64</td><td>f64</td><td>str</td><td>i64</td><td>str</td><td>str</td><td>i64</td><td>i64</td><td>i64</td><td>str</td><td>str</td></tr></thead><tbody><tr><td>&quot;8779-QRDMV&quot;</td><td>1</td><td>&quot;Male&quot;</td><td>78</td><td>&quot;No&quot;</td><td>&quot;Yes&quot;</td><td>&quot;No&quot;</td><td>&quot;No&quot;</td><td>0</td><td>1</td><td>&quot;United States&quot;</td><td>&quot;California&quot;</td><td>&quot;Los Angeles&quot;</td><td>90022</td><td>&quot;34.02381, -118…</td><td>34.02381</td><td>-118.156582</td><td>&quot;Q3&quot;</td><td>&quot;No&quot;</td><td>0</td><td>1</td><td>&quot;None&quot;</td><td>&quot;No&quot;</td><td>0.0</td><td>&quot;No&quot;</td><td>&quot;Yes&quot;</td><td>&quot;DSL&quot;</td><td>8</td><td>&quot;No&quot;</td><td>&quot;No&quot;</td><td>&quot;Yes&quot;</td><td>&quot;No&quot;</td><td>&quot;No&quot;</td><td>&quot;Yes&quot;</td><td>&quot;No&quot;</td><td>&quot;No&quot;</td><td>&quot;Month-to-Month…</td><td>&quot;Yes&quot;</td><td>&quot;Bank Withdrawa…</td><td>39.65</td><td>39.65</td><td>0.0</td><td>20</td><td>0.0</td><td>59.65</td><td>&quot;Q3&quot;</td><td>3</td><td>&quot;Churned&quot;</td><td>&quot;Yes&quot;</td><td>1</td><td>91</td><td>5433</td><td>&quot;Competitor&quot;</td><td>&quot;Competitor off…</td></tr><tr><td>&quot;7495-OOKFY&quot;</td><td>1</td><td>&quot;Female&quot;</td><td>74</td><td>&quot;No&quot;</td><td>&quot;Yes&quot;</td><td>&quot;Yes&quot;</td><td>&quot;Yes&quot;</td><td>1</td><td>1</td><td>&quot;United States&quot;</td><td>&quot;California&quot;</td><td>&quot;Los Angeles&quot;</td><td>90063</td><td>&quot;34.044271, -11…</td><td>34.044271</td><td>-118.185237</td><td>&quot;Q3&quot;</td><td>&quot;Yes&quot;</td><td>1</td><td>8</td><td>&quot;Offer E&quot;</td><td>&quot;Yes&quot;</td><td>48.85</td><td>&quot;Yes&quot;</td><td>&quot;Yes&quot;</td><td>&quot;Fiber Optic&quot;</td><td>17</td><td>&quot;No&quot;</td><td>&quot;Yes&quot;</td><td>&quot;No&quot;</td><td>&quot;No&quot;</td><td>&quot;No&quot;</td><td>&quot;No&quot;</td><td>&quot;No&quot;</td><td>&quot;Yes&quot;</td><td>&quot;Month-to-Month…</td><td>&quot;Yes&quot;</td><td>&quot;Credit Card&quot;</td><td>80.65</td><td>633.3</td><td>0.0</td><td>0</td><td>390.8</td><td>1024.1</td><td>&quot;Q3&quot;</td><td>3</td><td>&quot;Churned&quot;</td><td>&quot;Yes&quot;</td><td>1</td><td>69</td><td>5302</td><td>&quot;Competitor&quot;</td><td>&quot;Competitor mad…</td></tr><tr><td>&quot;1658-BYGOY&quot;</td><td>1</td><td>&quot;Male&quot;</td><td>71</td><td>&quot;No&quot;</td><td>&quot;Yes&quot;</td><td>&quot;No&quot;</td><td>&quot;Yes&quot;</td><td>3</td><td>1</td><td>&quot;United States&quot;</td><td>&quot;California&quot;</td><td>&quot;Los Angeles&quot;</td><td>90065</td><td>&quot;34.108833, -11…</td><td>34.108833</td><td>-118.229715</td><td>&quot;Q3&quot;</td><td>&quot;No&quot;</td><td>0</td><td>18</td><td>&quot;Offer D&quot;</td><td>&quot;Yes&quot;</td><td>11.33</td><td>&quot;Yes&quot;</td><td>&quot;Yes&quot;</td><td>&quot;Fiber Optic&quot;</td><td>52</td><td>&quot;No&quot;</td><td>&quot;No&quot;</td><td>&quot;No&quot;</td><td>&quot;No&quot;</td><td>&quot;Yes&quot;</td><td>&quot;Yes&quot;</td><td>&quot;Yes&quot;</td><td>&quot;Yes&quot;</td><td>&quot;Month-to-Month…</td><td>&quot;Yes&quot;</td><td>&quot;Bank Withdrawa…</td><td>95.45</td><td>1752.55</td><td>45.61</td><td>0</td><td>203.94</td><td>1910.88</td><td>&quot;Q3&quot;</td><td>2</td><td>&quot;Churned&quot;</td><td>&quot;Yes&quot;</td><td>1</td><td>81</td><td>3179</td><td>&quot;Competitor&quot;</td><td>&quot;Competitor mad…</td></tr><tr><td>&quot;4598-XLKNJ&quot;</td><td>1</td><td>&quot;Female&quot;</td><td>78</td><td>&quot;No&quot;</td><td>&quot;Yes&quot;</td><td>&quot;Yes&quot;</td><td>&quot;Yes&quot;</td><td>1</td><td>1</td><td>&quot;United States&quot;</td><td>&quot;California&quot;</td><td>&quot;Inglewood&quot;</td><td>90303</td><td>&quot;33.936291, -11…</td><td>33.936291</td><td>-118.332639</td><td>&quot;Q3&quot;</td><td>&quot;Yes&quot;</td><td>1</td><td>25</td><td>&quot;Offer C&quot;</td><td>&quot;Yes&quot;</td><td>19.76</td><td>&quot;No&quot;</td><td>&quot;Yes&quot;</td><td>&quot;Fiber Optic&quot;</td><td>12</td><td>&quot;No&quot;</td><td>&quot;Yes&quot;</td><td>&quot;Yes&quot;</td><td>&quot;No&quot;</td><td>&quot;Yes&quot;</td><td>&quot;Yes&quot;</td><td>&quot;No&quot;</td><td>&quot;Yes&quot;</td><td>&quot;Month-to-Month…</td><td>&quot;Yes&quot;</td><td>&quot;Bank Withdrawa…</td><td>98.5</td><td>2514.5</td><td>13.43</td><td>0</td><td>494.0</td><td>2995.07</td><td>&quot;Q3&quot;</td><td>2</td><td>&quot;Churned&quot;</td><td>&quot;Yes&quot;</td><td>1</td><td>88</td><td>5337</td><td>&quot;Dissatisfactio…</td><td>&quot;Limited range …</td></tr><tr><td>&quot;4846-WHAFZ&quot;</td><td>1</td><td>&quot;Female&quot;</td><td>80</td><td>&quot;No&quot;</td><td>&quot;Yes&quot;</td><td>&quot;Yes&quot;</td><td>&quot;Yes&quot;</td><td>1</td><td>1</td><td>&quot;United States&quot;</td><td>&quot;California&quot;</td><td>&quot;Whittier&quot;</td><td>90602</td><td>&quot;33.972119, -11…</td><td>33.972119</td><td>-118.020188</td><td>&quot;Q3&quot;</td><td>&quot;Yes&quot;</td><td>1</td><td>37</td><td>&quot;Offer C&quot;</td><td>&quot;Yes&quot;</td><td>6.33</td><td>&quot;Yes&quot;</td><td>&quot;Yes&quot;</td><td>&quot;Fiber Optic&quot;</td><td>14</td><td>&quot;No&quot;</td><td>&quot;No&quot;</td><td>&quot;No&quot;</td><td>&quot;No&quot;</td><td>&quot;No&quot;</td><td>&quot;No&quot;</td><td>&quot;No&quot;</td><td>&quot;Yes&quot;</td><td>&quot;Month-to-Month…</td><td>&quot;Yes&quot;</td><td>&quot;Bank Withdrawa…</td><td>76.5</td><td>2868.15</td><td>0.0</td><td>0</td><td>234.21</td><td>3102.36</td><td>&quot;Q3&quot;</td><td>2</td><td>&quot;Churned&quot;</td><td>&quot;Yes&quot;</td><td>1</td><td>67</td><td>2793</td><td>&quot;Price&quot;</td><td>&quot;Extra data cha…</td></tr></tbody></table></div>"
      ],
      "text/plain": [
       "shape: (5, 54)\n",
       "┌─────────────┬───────┬────────┬─────┬───┬─────────────┬──────┬─────────────────┬──────────────────┐\n",
       "│ Customer ID ┆ Count ┆ Gender ┆ Age ┆ … ┆ Churn Score ┆ CLTV ┆ Churn Category  ┆ Churn Reason     │\n",
       "│ ---         ┆ ---   ┆ ---    ┆ --- ┆   ┆ ---         ┆ ---  ┆ ---             ┆ ---              │\n",
       "│ str         ┆ i64   ┆ str    ┆ i64 ┆   ┆ i64         ┆ i64  ┆ str             ┆ str              │\n",
       "╞═════════════╪═══════╪════════╪═════╪═══╪═════════════╪══════╪═════════════════╪══════════════════╡\n",
       "│ 8779-QRDMV  ┆ 1     ┆ Male   ┆ 78  ┆ … ┆ 91          ┆ 5433 ┆ Competitor      ┆ Competitor       │\n",
       "│             ┆       ┆        ┆     ┆   ┆             ┆      ┆                 ┆ offered more     │\n",
       "│             ┆       ┆        ┆     ┆   ┆             ┆      ┆                 ┆ data             │\n",
       "│ 7495-OOKFY  ┆ 1     ┆ Female ┆ 74  ┆ … ┆ 69          ┆ 5302 ┆ Competitor      ┆ Competitor made  │\n",
       "│             ┆       ┆        ┆     ┆   ┆             ┆      ┆                 ┆ better offer     │\n",
       "│ 1658-BYGOY  ┆ 1     ┆ Male   ┆ 71  ┆ … ┆ 81          ┆ 3179 ┆ Competitor      ┆ Competitor made  │\n",
       "│             ┆       ┆        ┆     ┆   ┆             ┆      ┆                 ┆ better offer     │\n",
       "│ 4598-XLKNJ  ┆ 1     ┆ Female ┆ 78  ┆ … ┆ 88          ┆ 5337 ┆ Dissatisfaction ┆ Limited range of │\n",
       "│             ┆       ┆        ┆     ┆   ┆             ┆      ┆                 ┆ services         │\n",
       "│ 4846-WHAFZ  ┆ 1     ┆ Female ┆ 80  ┆ … ┆ 67          ┆ 2793 ┆ Price           ┆ Extra data       │\n",
       "│             ┆       ┆        ┆     ┆   ┆             ┆      ┆                 ┆ charges          │\n",
       "└─────────────┴───────┴────────┴─────┴───┴─────────────┴──────┴─────────────────┴──────────────────┘"
      ]
     },
     "execution_count": 173,
     "metadata": {},
     "output_type": "execute_result"
    }
   ],
   "source": [
    "new_tab.head()\n"
   ]
  },
  {
   "cell_type": "code",
   "execution_count": 174,
   "metadata": {},
   "outputs": [],
   "source": [
    "\n",
    "# Repeated column or not usable information:\n",
    "# Count, Count_right, Lat Long (already in as separate variables), Quarter_right, \n",
    "# Customer Status, Churn Label, Churn Score (used lated for comparison),\n",
    "# Churn Reason (drop because Churn category already in) \n",
    "drop_variables = [\"Count\",\"Count_right\",\"Lat Long\",\n",
    "                  \"Quarter_right\",\"Customer Status\",\"Churn Label\",\n",
    "                  \"Churn Reason\",\"Country\", \"Referred a Friend\",\"Quarter\"]\n",
    "drop_variables_age = [\"Under 30\",\"Senior Citizen\"]\n",
    "\n",
    "usable_tab = new_tab.drop(drop_variables)\n",
    "usable_tab_no_age = usable_tab.drop(drop_variables_age)"
   ]
  },
  {
   "cell_type": "markdown",
   "metadata": {},
   "source": [
    "### Determine the null value counts"
   ]
  },
  {
   "cell_type": "code",
   "execution_count": 175,
   "metadata": {},
   "outputs": [
    {
     "data": {
      "text/html": [
       "<div><style>\n",
       ".dataframe > thead > tr,\n",
       ".dataframe > tbody > tr {\n",
       "  text-align: right;\n",
       "  white-space: pre-wrap;\n",
       "}\n",
       "</style>\n",
       "<small>shape: (1, 42)</small><table border=\"1\" class=\"dataframe\"><thead><tr><th>Customer ID</th><th>Gender</th><th>Age</th><th>Married</th><th>Dependents</th><th>Number of Dependents</th><th>State</th><th>City</th><th>Zip Code</th><th>Latitude</th><th>Longitude</th><th>Number of Referrals</th><th>Tenure in Months</th><th>Offer</th><th>Phone Service</th><th>Avg Monthly Long Distance Charges</th><th>Multiple Lines</th><th>Internet Service</th><th>Internet Type</th><th>Avg Monthly GB Download</th><th>Online Security</th><th>Online Backup</th><th>Device Protection Plan</th><th>Premium Tech Support</th><th>Streaming TV</th><th>Streaming Movies</th><th>Streaming Music</th><th>Unlimited Data</th><th>Contract</th><th>Paperless Billing</th><th>Payment Method</th><th>Monthly Charge</th><th>Total Charges</th><th>Total Refunds</th><th>Total Extra Data Charges</th><th>Total Long Distance Charges</th><th>Total Revenue</th><th>Satisfaction Score</th><th>Churn Value</th><th>Churn Score</th><th>CLTV</th><th>Churn Category</th></tr><tr><td>u32</td><td>u32</td><td>u32</td><td>u32</td><td>u32</td><td>u32</td><td>u32</td><td>u32</td><td>u32</td><td>u32</td><td>u32</td><td>u32</td><td>u32</td><td>u32</td><td>u32</td><td>u32</td><td>u32</td><td>u32</td><td>u32</td><td>u32</td><td>u32</td><td>u32</td><td>u32</td><td>u32</td><td>u32</td><td>u32</td><td>u32</td><td>u32</td><td>u32</td><td>u32</td><td>u32</td><td>u32</td><td>u32</td><td>u32</td><td>u32</td><td>u32</td><td>u32</td><td>u32</td><td>u32</td><td>u32</td><td>u32</td><td>u32</td></tr></thead><tbody><tr><td>0</td><td>0</td><td>0</td><td>0</td><td>0</td><td>0</td><td>0</td><td>0</td><td>0</td><td>0</td><td>0</td><td>0</td><td>0</td><td>0</td><td>0</td><td>0</td><td>0</td><td>0</td><td>0</td><td>0</td><td>0</td><td>0</td><td>0</td><td>0</td><td>0</td><td>0</td><td>0</td><td>0</td><td>0</td><td>0</td><td>0</td><td>0</td><td>0</td><td>0</td><td>0</td><td>0</td><td>0</td><td>0</td><td>0</td><td>0</td><td>0</td><td>5174</td></tr></tbody></table></div>"
      ],
      "text/plain": [
       "shape: (1, 42)\n",
       "┌─────────────┬────────┬─────┬─────────┬───┬─────────────┬─────────────┬──────┬────────────────┐\n",
       "│ Customer ID ┆ Gender ┆ Age ┆ Married ┆ … ┆ Churn Value ┆ Churn Score ┆ CLTV ┆ Churn Category │\n",
       "│ ---         ┆ ---    ┆ --- ┆ ---     ┆   ┆ ---         ┆ ---         ┆ ---  ┆ ---            │\n",
       "│ u32         ┆ u32    ┆ u32 ┆ u32     ┆   ┆ u32         ┆ u32         ┆ u32  ┆ u32            │\n",
       "╞═════════════╪════════╪═════╪═════════╪═══╪═════════════╪═════════════╪══════╪════════════════╡\n",
       "│ 0           ┆ 0      ┆ 0   ┆ 0       ┆ … ┆ 0           ┆ 0           ┆ 0    ┆ 5174           │\n",
       "└─────────────┴────────┴─────┴─────────┴───┴─────────────┴─────────────┴──────┴────────────────┘"
      ]
     },
     "execution_count": 175,
     "metadata": {},
     "output_type": "execute_result"
    }
   ],
   "source": [
    "usable_tab_no_age.null_count()"
   ]
  },
  {
   "cell_type": "markdown",
   "metadata": {},
   "source": [
    "Fill Offer Category None"
   ]
  },
  {
   "cell_type": "code",
   "execution_count": 176,
   "metadata": {},
   "outputs": [],
   "source": [
    "usable_tab_no_age = usable_tab_no_age.with_columns(\n",
    "    pl.col(\"Offer\").replace(\"None\", \"No Offer\")\n",
    ")"
   ]
  },
  {
   "cell_type": "markdown",
   "metadata": {},
   "source": [
    "Just Churn Category have nulls, those nulls represent customer that did not churn, so they're filled with a new category \"Not Churn\""
   ]
  },
  {
   "cell_type": "code",
   "execution_count": 177,
   "metadata": {},
   "outputs": [],
   "source": [
    "usable_tab_no_age = usable_tab_no_age.fill_null(value=\"Not Churn\")"
   ]
  },
  {
   "cell_type": "markdown",
   "metadata": {},
   "source": [
    "Inspect different measures as mean and std from clients"
   ]
  },
  {
   "cell_type": "code",
   "execution_count": 178,
   "metadata": {},
   "outputs": [
    {
     "data": {
      "text/html": [
       "<div><style>\n",
       ".dataframe > thead > tr,\n",
       ".dataframe > tbody > tr {\n",
       "  text-align: right;\n",
       "  white-space: pre-wrap;\n",
       "}\n",
       "</style>\n",
       "<small>shape: (9, 43)</small><table border=\"1\" class=\"dataframe\"><thead><tr><th>statistic</th><th>Customer ID</th><th>Gender</th><th>Age</th><th>Married</th><th>Dependents</th><th>Number of Dependents</th><th>State</th><th>City</th><th>Zip Code</th><th>Latitude</th><th>Longitude</th><th>Number of Referrals</th><th>Tenure in Months</th><th>Offer</th><th>Phone Service</th><th>Avg Monthly Long Distance Charges</th><th>Multiple Lines</th><th>Internet Service</th><th>Internet Type</th><th>Avg Monthly GB Download</th><th>Online Security</th><th>Online Backup</th><th>Device Protection Plan</th><th>Premium Tech Support</th><th>Streaming TV</th><th>Streaming Movies</th><th>Streaming Music</th><th>Unlimited Data</th><th>Contract</th><th>Paperless Billing</th><th>Payment Method</th><th>Monthly Charge</th><th>Total Charges</th><th>Total Refunds</th><th>Total Extra Data Charges</th><th>Total Long Distance Charges</th><th>Total Revenue</th><th>Satisfaction Score</th><th>Churn Value</th><th>Churn Score</th><th>CLTV</th><th>Churn Category</th></tr><tr><td>str</td><td>str</td><td>str</td><td>f64</td><td>str</td><td>str</td><td>f64</td><td>str</td><td>str</td><td>f64</td><td>f64</td><td>f64</td><td>f64</td><td>f64</td><td>str</td><td>str</td><td>f64</td><td>str</td><td>str</td><td>str</td><td>f64</td><td>str</td><td>str</td><td>str</td><td>str</td><td>str</td><td>str</td><td>str</td><td>str</td><td>str</td><td>str</td><td>str</td><td>f64</td><td>f64</td><td>f64</td><td>f64</td><td>f64</td><td>f64</td><td>f64</td><td>f64</td><td>f64</td><td>f64</td><td>str</td></tr></thead><tbody><tr><td>&quot;count&quot;</td><td>&quot;7043&quot;</td><td>&quot;7043&quot;</td><td>7043.0</td><td>&quot;7043&quot;</td><td>&quot;7043&quot;</td><td>7043.0</td><td>&quot;7043&quot;</td><td>&quot;7043&quot;</td><td>7043.0</td><td>7043.0</td><td>7043.0</td><td>7043.0</td><td>7043.0</td><td>&quot;7043&quot;</td><td>&quot;7043&quot;</td><td>7043.0</td><td>&quot;7043&quot;</td><td>&quot;7043&quot;</td><td>&quot;7043&quot;</td><td>7043.0</td><td>&quot;7043&quot;</td><td>&quot;7043&quot;</td><td>&quot;7043&quot;</td><td>&quot;7043&quot;</td><td>&quot;7043&quot;</td><td>&quot;7043&quot;</td><td>&quot;7043&quot;</td><td>&quot;7043&quot;</td><td>&quot;7043&quot;</td><td>&quot;7043&quot;</td><td>&quot;7043&quot;</td><td>7043.0</td><td>7043.0</td><td>7043.0</td><td>7043.0</td><td>7043.0</td><td>7043.0</td><td>7043.0</td><td>7043.0</td><td>7043.0</td><td>7043.0</td><td>&quot;7043&quot;</td></tr><tr><td>&quot;null_count&quot;</td><td>&quot;0&quot;</td><td>&quot;0&quot;</td><td>0.0</td><td>&quot;0&quot;</td><td>&quot;0&quot;</td><td>0.0</td><td>&quot;0&quot;</td><td>&quot;0&quot;</td><td>0.0</td><td>0.0</td><td>0.0</td><td>0.0</td><td>0.0</td><td>&quot;0&quot;</td><td>&quot;0&quot;</td><td>0.0</td><td>&quot;0&quot;</td><td>&quot;0&quot;</td><td>&quot;0&quot;</td><td>0.0</td><td>&quot;0&quot;</td><td>&quot;0&quot;</td><td>&quot;0&quot;</td><td>&quot;0&quot;</td><td>&quot;0&quot;</td><td>&quot;0&quot;</td><td>&quot;0&quot;</td><td>&quot;0&quot;</td><td>&quot;0&quot;</td><td>&quot;0&quot;</td><td>&quot;0&quot;</td><td>0.0</td><td>0.0</td><td>0.0</td><td>0.0</td><td>0.0</td><td>0.0</td><td>0.0</td><td>0.0</td><td>0.0</td><td>0.0</td><td>&quot;0&quot;</td></tr><tr><td>&quot;mean&quot;</td><td>null</td><td>null</td><td>46.509726</td><td>null</td><td>null</td><td>0.468692</td><td>null</td><td>null</td><td>93486.070567</td><td>36.197455</td><td>-119.756684</td><td>1.951867</td><td>32.386767</td><td>null</td><td>null</td><td>22.958954</td><td>null</td><td>null</td><td>null</td><td>20.515405</td><td>null</td><td>null</td><td>null</td><td>null</td><td>null</td><td>null</td><td>null</td><td>null</td><td>null</td><td>null</td><td>null</td><td>64.761692</td><td>2280.381264</td><td>1.962182</td><td>6.860713</td><td>749.099262</td><td>3034.379056</td><td>3.244924</td><td>0.26537</td><td>58.50504</td><td>4400.295755</td><td>null</td></tr><tr><td>&quot;std&quot;</td><td>null</td><td>null</td><td>16.750352</td><td>null</td><td>null</td><td>0.962802</td><td>null</td><td>null</td><td>1856.767505</td><td>2.468929</td><td>2.154425</td><td>3.001199</td><td>24.542061</td><td>null</td><td>null</td><td>15.448113</td><td>null</td><td>null</td><td>null</td><td>20.41894</td><td>null</td><td>null</td><td>null</td><td>null</td><td>null</td><td>null</td><td>null</td><td>null</td><td>null</td><td>null</td><td>null</td><td>30.090047</td><td>2266.220462</td><td>7.902614</td><td>25.104978</td><td>846.660055</td><td>2865.204542</td><td>1.201657</td><td>0.441561</td><td>21.170031</td><td>1183.057152</td><td>null</td></tr><tr><td>&quot;min&quot;</td><td>&quot;0002-ORFBO&quot;</td><td>&quot;Female&quot;</td><td>19.0</td><td>&quot;No&quot;</td><td>&quot;No&quot;</td><td>0.0</td><td>&quot;California&quot;</td><td>&quot;Acampo&quot;</td><td>90001.0</td><td>32.555828</td><td>-124.301372</td><td>0.0</td><td>1.0</td><td>&quot;No Offer&quot;</td><td>&quot;No&quot;</td><td>0.0</td><td>&quot;No&quot;</td><td>&quot;No&quot;</td><td>&quot;Cable&quot;</td><td>0.0</td><td>&quot;No&quot;</td><td>&quot;No&quot;</td><td>&quot;No&quot;</td><td>&quot;No&quot;</td><td>&quot;No&quot;</td><td>&quot;No&quot;</td><td>&quot;No&quot;</td><td>&quot;No&quot;</td><td>&quot;Month-to-Month…</td><td>&quot;No&quot;</td><td>&quot;Bank Withdrawa…</td><td>18.25</td><td>18.8</td><td>0.0</td><td>0.0</td><td>0.0</td><td>21.36</td><td>1.0</td><td>0.0</td><td>5.0</td><td>2003.0</td><td>&quot;Attitude&quot;</td></tr><tr><td>&quot;25%&quot;</td><td>null</td><td>null</td><td>32.0</td><td>null</td><td>null</td><td>0.0</td><td>null</td><td>null</td><td>92101.0</td><td>33.990646</td><td>-121.78809</td><td>0.0</td><td>9.0</td><td>null</td><td>null</td><td>9.21</td><td>null</td><td>null</td><td>null</td><td>3.0</td><td>null</td><td>null</td><td>null</td><td>null</td><td>null</td><td>null</td><td>null</td><td>null</td><td>null</td><td>null</td><td>null</td><td>35.5</td><td>400.3</td><td>0.0</td><td>0.0</td><td>70.59</td><td>605.75</td><td>3.0</td><td>0.0</td><td>40.0</td><td>3469.0</td><td>null</td></tr><tr><td>&quot;50%&quot;</td><td>null</td><td>null</td><td>46.0</td><td>null</td><td>null</td><td>0.0</td><td>null</td><td>null</td><td>93518.0</td><td>36.205465</td><td>-119.595293</td><td>0.0</td><td>29.0</td><td>null</td><td>null</td><td>22.89</td><td>null</td><td>null</td><td>null</td><td>17.0</td><td>null</td><td>null</td><td>null</td><td>null</td><td>null</td><td>null</td><td>null</td><td>null</td><td>null</td><td>null</td><td>null</td><td>70.35</td><td>1394.55</td><td>0.0</td><td>0.0</td><td>401.44</td><td>2108.64</td><td>3.0</td><td>0.0</td><td>61.0</td><td>4527.0</td><td>null</td></tr><tr><td>&quot;75%&quot;</td><td>null</td><td>null</td><td>60.0</td><td>null</td><td>null</td><td>0.0</td><td>null</td><td>null</td><td>95329.0</td><td>38.161321</td><td>-117.969795</td><td>3.0</td><td>55.0</td><td>null</td><td>null</td><td>36.4</td><td>null</td><td>null</td><td>null</td><td>27.0</td><td>null</td><td>null</td><td>null</td><td>null</td><td>null</td><td>null</td><td>null</td><td>null</td><td>null</td><td>null</td><td>null</td><td>89.85</td><td>3789.2</td><td>0.0</td><td>0.0</td><td>1191.5</td><td>4801.93</td><td>4.0</td><td>1.0</td><td>76.0</td><td>5381.0</td><td>null</td></tr><tr><td>&quot;max&quot;</td><td>&quot;9995-HOTOH&quot;</td><td>&quot;Male&quot;</td><td>80.0</td><td>&quot;Yes&quot;</td><td>&quot;Yes&quot;</td><td>9.0</td><td>&quot;California&quot;</td><td>&quot;Zenia&quot;</td><td>96150.0</td><td>41.962127</td><td>-114.192901</td><td>11.0</td><td>72.0</td><td>&quot;Offer E&quot;</td><td>&quot;Yes&quot;</td><td>49.99</td><td>&quot;Yes&quot;</td><td>&quot;Yes&quot;</td><td>&quot;None&quot;</td><td>85.0</td><td>&quot;Yes&quot;</td><td>&quot;Yes&quot;</td><td>&quot;Yes&quot;</td><td>&quot;Yes&quot;</td><td>&quot;Yes&quot;</td><td>&quot;Yes&quot;</td><td>&quot;Yes&quot;</td><td>&quot;Yes&quot;</td><td>&quot;Two Year&quot;</td><td>&quot;Yes&quot;</td><td>&quot;Mailed Check&quot;</td><td>118.75</td><td>8684.8</td><td>49.79</td><td>150.0</td><td>3564.72</td><td>11979.34</td><td>5.0</td><td>1.0</td><td>96.0</td><td>6500.0</td><td>&quot;Price&quot;</td></tr></tbody></table></div>"
      ],
      "text/plain": [
       "shape: (9, 43)\n",
       "┌────────────┬────────────┬────────┬───────────┬───┬───────────┬───────────┬───────────┬───────────┐\n",
       "│ statistic  ┆ Customer   ┆ Gender ┆ Age       ┆ … ┆ Churn     ┆ Churn     ┆ CLTV      ┆ Churn     │\n",
       "│ ---        ┆ ID         ┆ ---    ┆ ---       ┆   ┆ Value     ┆ Score     ┆ ---       ┆ Category  │\n",
       "│ str        ┆ ---        ┆ str    ┆ f64       ┆   ┆ ---       ┆ ---       ┆ f64       ┆ ---       │\n",
       "│            ┆ str        ┆        ┆           ┆   ┆ f64       ┆ f64       ┆           ┆ str       │\n",
       "╞════════════╪════════════╪════════╪═══════════╪═══╪═══════════╪═══════════╪═══════════╪═══════════╡\n",
       "│ count      ┆ 7043       ┆ 7043   ┆ 7043.0    ┆ … ┆ 7043.0    ┆ 7043.0    ┆ 7043.0    ┆ 7043      │\n",
       "│ null_count ┆ 0          ┆ 0      ┆ 0.0       ┆ … ┆ 0.0       ┆ 0.0       ┆ 0.0       ┆ 0         │\n",
       "│ mean       ┆ null       ┆ null   ┆ 46.509726 ┆ … ┆ 0.26537   ┆ 58.50504  ┆ 4400.2957 ┆ null      │\n",
       "│            ┆            ┆        ┆           ┆   ┆           ┆           ┆ 55        ┆           │\n",
       "│ std        ┆ null       ┆ null   ┆ 16.750352 ┆ … ┆ 0.441561  ┆ 21.170031 ┆ 1183.0571 ┆ null      │\n",
       "│            ┆            ┆        ┆           ┆   ┆           ┆           ┆ 52        ┆           │\n",
       "│ min        ┆ 0002-ORFBO ┆ Female ┆ 19.0      ┆ … ┆ 0.0       ┆ 5.0       ┆ 2003.0    ┆ Attitude  │\n",
       "│ 25%        ┆ null       ┆ null   ┆ 32.0      ┆ … ┆ 0.0       ┆ 40.0      ┆ 3469.0    ┆ null      │\n",
       "│ 50%        ┆ null       ┆ null   ┆ 46.0      ┆ … ┆ 0.0       ┆ 61.0      ┆ 4527.0    ┆ null      │\n",
       "│ 75%        ┆ null       ┆ null   ┆ 60.0      ┆ … ┆ 1.0       ┆ 76.0      ┆ 5381.0    ┆ null      │\n",
       "│ max        ┆ 9995-HOTOH ┆ Male   ┆ 80.0      ┆ … ┆ 1.0       ┆ 96.0      ┆ 6500.0    ┆ Price     │\n",
       "└────────────┴────────────┴────────┴───────────┴───┴───────────┴───────────┴───────────┴───────────┘"
      ]
     },
     "execution_count": 178,
     "metadata": {},
     "output_type": "execute_result"
    }
   ],
   "source": [
    "usable_tab_no_age.describe()"
   ]
  },
  {
   "cell_type": "markdown",
   "metadata": {},
   "source": [
    "Merge Columns with same meaning in another Category, in this case Phone service and Multiple lines"
   ]
  },
  {
   "cell_type": "code",
   "execution_count": 179,
   "metadata": {},
   "outputs": [
    {
     "data": {
      "text/html": [
       "<div><style>\n",
       ".dataframe > thead > tr,\n",
       ".dataframe > tbody > tr {\n",
       "  text-align: right;\n",
       "  white-space: pre-wrap;\n",
       "}\n",
       "</style>\n",
       "<small>shape: (7_043,)</small><table border=\"1\" class=\"dataframe\"><thead><tr><th>Phone Service</th></tr><tr><td>str</td></tr></thead><tbody><tr><td>&quot;No&quot;</td></tr><tr><td>&quot;Yes&quot;</td></tr><tr><td>&quot;Yes&quot;</td></tr><tr><td>&quot;Yes&quot;</td></tr><tr><td>&quot;Yes&quot;</td></tr><tr><td>&quot;Yes&quot;</td></tr><tr><td>&quot;Yes&quot;</td></tr><tr><td>&quot;No&quot;</td></tr><tr><td>&quot;Yes&quot;</td></tr><tr><td>&quot;Yes&quot;</td></tr><tr><td>&quot;Yes&quot;</td></tr><tr><td>&quot;Yes&quot;</td></tr><tr><td>&hellip;</td></tr><tr><td>&quot;Yes&quot;</td></tr><tr><td>&quot;Yes&quot;</td></tr><tr><td>&quot;Yes&quot;</td></tr><tr><td>&quot;Yes&quot;</td></tr><tr><td>&quot;Yes&quot;</td></tr><tr><td>&quot;Yes&quot;</td></tr><tr><td>&quot;No&quot;</td></tr><tr><td>&quot;Yes&quot;</td></tr><tr><td>&quot;Yes&quot;</td></tr><tr><td>&quot;Yes&quot;</td></tr><tr><td>&quot;No&quot;</td></tr><tr><td>&quot;Yes&quot;</td></tr></tbody></table></div>"
      ],
      "text/plain": [
       "shape: (7_043,)\n",
       "Series: 'Phone Service' [str]\n",
       "[\n",
       "\t\"No\"\n",
       "\t\"Yes\"\n",
       "\t\"Yes\"\n",
       "\t\"Yes\"\n",
       "\t\"Yes\"\n",
       "\t\"Yes\"\n",
       "\t\"Yes\"\n",
       "\t\"No\"\n",
       "\t\"Yes\"\n",
       "\t\"Yes\"\n",
       "\t\"Yes\"\n",
       "\t\"Yes\"\n",
       "\t…\n",
       "\t\"Yes\"\n",
       "\t\"Yes\"\n",
       "\t\"Yes\"\n",
       "\t\"Yes\"\n",
       "\t\"Yes\"\n",
       "\t\"Yes\"\n",
       "\t\"Yes\"\n",
       "\t\"No\"\n",
       "\t\"Yes\"\n",
       "\t\"Yes\"\n",
       "\t\"Yes\"\n",
       "\t\"No\"\n",
       "\t\"Yes\"\n",
       "]"
      ]
     },
     "execution_count": 179,
     "metadata": {},
     "output_type": "execute_result"
    }
   ],
   "source": [
    "def join_columns_phone(a, b):\n",
    "    if a == 'Yes' and b == 'Yes':\n",
    "        return a\n",
    "    elif a == 'Yes' and b == 'No':\n",
    "        return b\n",
    "    elif a == 'No' and b == 'No':\n",
    "        return 'No Service'\n",
    "        \n",
    "def join_columns_internet(a,b):\n",
    "    if a == 'No' and b == 'None':\n",
    "        return 'No Service'\n",
    "    else:\n",
    "        return b\n",
    "    \n",
    "usable_tab_no_age = usable_tab_no_age.with_columns(pl.struct(['Phone Service','Multiple Lines']) \\\n",
    "       .map_elements(lambda x: join_columns_phone(x['Phone Service'], x['Multiple Lines'])).alias('Multiple Lines'))\n",
    "\n",
    "usable_tab_no_age.drop_in_place(\"Phone Service\")"
   ]
  },
  {
   "cell_type": "markdown",
   "metadata": {},
   "source": [
    "Merge Internet service as a category of Internet Type"
   ]
  },
  {
   "cell_type": "code",
   "execution_count": 180,
   "metadata": {},
   "outputs": [
    {
     "data": {
      "text/html": [
       "<div><style>\n",
       ".dataframe > thead > tr,\n",
       ".dataframe > tbody > tr {\n",
       "  text-align: right;\n",
       "  white-space: pre-wrap;\n",
       "}\n",
       "</style>\n",
       "<small>shape: (7_043,)</small><table border=\"1\" class=\"dataframe\"><thead><tr><th>Internet Service</th></tr><tr><td>str</td></tr></thead><tbody><tr><td>&quot;Yes&quot;</td></tr><tr><td>&quot;Yes&quot;</td></tr><tr><td>&quot;Yes&quot;</td></tr><tr><td>&quot;Yes&quot;</td></tr><tr><td>&quot;Yes&quot;</td></tr><tr><td>&quot;Yes&quot;</td></tr><tr><td>&quot;Yes&quot;</td></tr><tr><td>&quot;Yes&quot;</td></tr><tr><td>&quot;Yes&quot;</td></tr><tr><td>&quot;Yes&quot;</td></tr><tr><td>&quot;Yes&quot;</td></tr><tr><td>&quot;Yes&quot;</td></tr><tr><td>&hellip;</td></tr><tr><td>&quot;Yes&quot;</td></tr><tr><td>&quot;Yes&quot;</td></tr><tr><td>&quot;Yes&quot;</td></tr><tr><td>&quot;No&quot;</td></tr><tr><td>&quot;Yes&quot;</td></tr><tr><td>&quot;Yes&quot;</td></tr><tr><td>&quot;Yes&quot;</td></tr><tr><td>&quot;No&quot;</td></tr><tr><td>&quot;Yes&quot;</td></tr><tr><td>&quot;Yes&quot;</td></tr><tr><td>&quot;Yes&quot;</td></tr><tr><td>&quot;Yes&quot;</td></tr></tbody></table></div>"
      ],
      "text/plain": [
       "shape: (7_043,)\n",
       "Series: 'Internet Service' [str]\n",
       "[\n",
       "\t\"Yes\"\n",
       "\t\"Yes\"\n",
       "\t\"Yes\"\n",
       "\t\"Yes\"\n",
       "\t\"Yes\"\n",
       "\t\"Yes\"\n",
       "\t\"Yes\"\n",
       "\t\"Yes\"\n",
       "\t\"Yes\"\n",
       "\t\"Yes\"\n",
       "\t\"Yes\"\n",
       "\t\"Yes\"\n",
       "\t…\n",
       "\t\"Yes\"\n",
       "\t\"Yes\"\n",
       "\t\"Yes\"\n",
       "\t\"Yes\"\n",
       "\t\"No\"\n",
       "\t\"Yes\"\n",
       "\t\"Yes\"\n",
       "\t\"Yes\"\n",
       "\t\"No\"\n",
       "\t\"Yes\"\n",
       "\t\"Yes\"\n",
       "\t\"Yes\"\n",
       "\t\"Yes\"\n",
       "]"
      ]
     },
     "execution_count": 180,
     "metadata": {},
     "output_type": "execute_result"
    }
   ],
   "source": [
    "def join_columns_internet(a,b):\n",
    "    if a == 'No' and b == \"None\":\n",
    "        return 'No Service'\n",
    "    else:\n",
    "        return b\n",
    "    \n",
    "usable_tab_no_age = usable_tab_no_age.with_columns(pl.struct(['Internet Service','Internet Type']) \\\n",
    "    .map_elements(lambda x: join_columns_internet(x['Internet Service'], x['Internet Type'])).alias('Internet Type'))\n",
    "\n",
    "usable_tab_no_age.drop_in_place(\"Internet Service\")"
   ]
  },
  {
   "cell_type": "code",
   "execution_count": 181,
   "metadata": {},
   "outputs": [
    {
     "data": {
      "text/html": [
       "<div><style>\n",
       ".dataframe > thead > tr,\n",
       ".dataframe > tbody > tr {\n",
       "  text-align: right;\n",
       "  white-space: pre-wrap;\n",
       "}\n",
       "</style>\n",
       "<small>shape: (7_043, 40)</small><table border=\"1\" class=\"dataframe\"><thead><tr><th>Customer ID</th><th>Gender</th><th>Age</th><th>Married</th><th>Dependents</th><th>Number of Dependents</th><th>State</th><th>City</th><th>Zip Code</th><th>Latitude</th><th>Longitude</th><th>Number of Referrals</th><th>Tenure in Months</th><th>Offer</th><th>Avg Monthly Long Distance Charges</th><th>Multiple Lines</th><th>Internet Type</th><th>Avg Monthly GB Download</th><th>Online Security</th><th>Online Backup</th><th>Device Protection Plan</th><th>Premium Tech Support</th><th>Streaming TV</th><th>Streaming Movies</th><th>Streaming Music</th><th>Unlimited Data</th><th>Contract</th><th>Paperless Billing</th><th>Payment Method</th><th>Monthly Charge</th><th>Total Charges</th><th>Total Refunds</th><th>Total Extra Data Charges</th><th>Total Long Distance Charges</th><th>Total Revenue</th><th>Satisfaction Score</th><th>Churn Value</th><th>Churn Score</th><th>CLTV</th><th>Churn Category</th></tr><tr><td>str</td><td>str</td><td>i64</td><td>str</td><td>str</td><td>i64</td><td>str</td><td>str</td><td>i64</td><td>f64</td><td>f64</td><td>i64</td><td>i64</td><td>str</td><td>f64</td><td>str</td><td>str</td><td>i64</td><td>str</td><td>str</td><td>str</td><td>str</td><td>str</td><td>str</td><td>str</td><td>str</td><td>str</td><td>str</td><td>str</td><td>f64</td><td>f64</td><td>f64</td><td>i64</td><td>f64</td><td>f64</td><td>i64</td><td>i64</td><td>i64</td><td>i64</td><td>str</td></tr></thead><tbody><tr><td>&quot;8779-QRDMV&quot;</td><td>&quot;Male&quot;</td><td>78</td><td>&quot;No&quot;</td><td>&quot;No&quot;</td><td>0</td><td>&quot;California&quot;</td><td>&quot;Los Angeles&quot;</td><td>90022</td><td>34.02381</td><td>-118.156582</td><td>0</td><td>1</td><td>&quot;No Offer&quot;</td><td>0.0</td><td>&quot;No Service&quot;</td><td>&quot;DSL&quot;</td><td>8</td><td>&quot;No&quot;</td><td>&quot;No&quot;</td><td>&quot;Yes&quot;</td><td>&quot;No&quot;</td><td>&quot;No&quot;</td><td>&quot;Yes&quot;</td><td>&quot;No&quot;</td><td>&quot;No&quot;</td><td>&quot;Month-to-Month…</td><td>&quot;Yes&quot;</td><td>&quot;Bank Withdrawa…</td><td>39.65</td><td>39.65</td><td>0.0</td><td>20</td><td>0.0</td><td>59.65</td><td>3</td><td>1</td><td>91</td><td>5433</td><td>&quot;Competitor&quot;</td></tr><tr><td>&quot;7495-OOKFY&quot;</td><td>&quot;Female&quot;</td><td>74</td><td>&quot;Yes&quot;</td><td>&quot;Yes&quot;</td><td>1</td><td>&quot;California&quot;</td><td>&quot;Los Angeles&quot;</td><td>90063</td><td>34.044271</td><td>-118.185237</td><td>1</td><td>8</td><td>&quot;Offer E&quot;</td><td>48.85</td><td>&quot;Yes&quot;</td><td>&quot;Fiber Optic&quot;</td><td>17</td><td>&quot;No&quot;</td><td>&quot;Yes&quot;</td><td>&quot;No&quot;</td><td>&quot;No&quot;</td><td>&quot;No&quot;</td><td>&quot;No&quot;</td><td>&quot;No&quot;</td><td>&quot;Yes&quot;</td><td>&quot;Month-to-Month…</td><td>&quot;Yes&quot;</td><td>&quot;Credit Card&quot;</td><td>80.65</td><td>633.3</td><td>0.0</td><td>0</td><td>390.8</td><td>1024.1</td><td>3</td><td>1</td><td>69</td><td>5302</td><td>&quot;Competitor&quot;</td></tr><tr><td>&quot;1658-BYGOY&quot;</td><td>&quot;Male&quot;</td><td>71</td><td>&quot;No&quot;</td><td>&quot;Yes&quot;</td><td>3</td><td>&quot;California&quot;</td><td>&quot;Los Angeles&quot;</td><td>90065</td><td>34.108833</td><td>-118.229715</td><td>0</td><td>18</td><td>&quot;Offer D&quot;</td><td>11.33</td><td>&quot;Yes&quot;</td><td>&quot;Fiber Optic&quot;</td><td>52</td><td>&quot;No&quot;</td><td>&quot;No&quot;</td><td>&quot;No&quot;</td><td>&quot;No&quot;</td><td>&quot;Yes&quot;</td><td>&quot;Yes&quot;</td><td>&quot;Yes&quot;</td><td>&quot;Yes&quot;</td><td>&quot;Month-to-Month…</td><td>&quot;Yes&quot;</td><td>&quot;Bank Withdrawa…</td><td>95.45</td><td>1752.55</td><td>45.61</td><td>0</td><td>203.94</td><td>1910.88</td><td>2</td><td>1</td><td>81</td><td>3179</td><td>&quot;Competitor&quot;</td></tr><tr><td>&quot;4598-XLKNJ&quot;</td><td>&quot;Female&quot;</td><td>78</td><td>&quot;Yes&quot;</td><td>&quot;Yes&quot;</td><td>1</td><td>&quot;California&quot;</td><td>&quot;Inglewood&quot;</td><td>90303</td><td>33.936291</td><td>-118.332639</td><td>1</td><td>25</td><td>&quot;Offer C&quot;</td><td>19.76</td><td>&quot;No&quot;</td><td>&quot;Fiber Optic&quot;</td><td>12</td><td>&quot;No&quot;</td><td>&quot;Yes&quot;</td><td>&quot;Yes&quot;</td><td>&quot;No&quot;</td><td>&quot;Yes&quot;</td><td>&quot;Yes&quot;</td><td>&quot;No&quot;</td><td>&quot;Yes&quot;</td><td>&quot;Month-to-Month…</td><td>&quot;Yes&quot;</td><td>&quot;Bank Withdrawa…</td><td>98.5</td><td>2514.5</td><td>13.43</td><td>0</td><td>494.0</td><td>2995.07</td><td>2</td><td>1</td><td>88</td><td>5337</td><td>&quot;Dissatisfactio…</td></tr><tr><td>&quot;4846-WHAFZ&quot;</td><td>&quot;Female&quot;</td><td>80</td><td>&quot;Yes&quot;</td><td>&quot;Yes&quot;</td><td>1</td><td>&quot;California&quot;</td><td>&quot;Whittier&quot;</td><td>90602</td><td>33.972119</td><td>-118.020188</td><td>1</td><td>37</td><td>&quot;Offer C&quot;</td><td>6.33</td><td>&quot;Yes&quot;</td><td>&quot;Fiber Optic&quot;</td><td>14</td><td>&quot;No&quot;</td><td>&quot;No&quot;</td><td>&quot;No&quot;</td><td>&quot;No&quot;</td><td>&quot;No&quot;</td><td>&quot;No&quot;</td><td>&quot;No&quot;</td><td>&quot;Yes&quot;</td><td>&quot;Month-to-Month…</td><td>&quot;Yes&quot;</td><td>&quot;Bank Withdrawa…</td><td>76.5</td><td>2868.15</td><td>0.0</td><td>0</td><td>234.21</td><td>3102.36</td><td>2</td><td>1</td><td>67</td><td>2793</td><td>&quot;Price&quot;</td></tr><tr><td>&quot;4412-YLTKF&quot;</td><td>&quot;Female&quot;</td><td>72</td><td>&quot;No&quot;</td><td>&quot;Yes&quot;</td><td>1</td><td>&quot;California&quot;</td><td>&quot;Pico Rivera&quot;</td><td>90660</td><td>33.989524</td><td>-118.089299</td><td>0</td><td>27</td><td>&quot;Offer C&quot;</td><td>3.33</td><td>&quot;Yes&quot;</td><td>&quot;Fiber Optic&quot;</td><td>18</td><td>&quot;No&quot;</td><td>&quot;No&quot;</td><td>&quot;Yes&quot;</td><td>&quot;No&quot;</td><td>&quot;No&quot;</td><td>&quot;No&quot;</td><td>&quot;No&quot;</td><td>&quot;No&quot;</td><td>&quot;Month-to-Month…</td><td>&quot;Yes&quot;</td><td>&quot;Bank Withdrawa…</td><td>78.05</td><td>2135.5</td><td>0.0</td><td>10</td><td>89.91</td><td>2235.41</td><td>1</td><td>1</td><td>95</td><td>4638</td><td>&quot;Competitor&quot;</td></tr><tr><td>&quot;0390-DCFDQ&quot;</td><td>&quot;Female&quot;</td><td>76</td><td>&quot;Yes&quot;</td><td>&quot;Yes&quot;</td><td>2</td><td>&quot;California&quot;</td><td>&quot;Los Alamitos&quot;</td><td>90720</td><td>33.79499</td><td>-118.065591</td><td>1</td><td>1</td><td>&quot;Offer E&quot;</td><td>15.28</td><td>&quot;No&quot;</td><td>&quot;Fiber Optic&quot;</td><td>30</td><td>&quot;No&quot;</td><td>&quot;No&quot;</td><td>&quot;No&quot;</td><td>&quot;No&quot;</td><td>&quot;No&quot;</td><td>&quot;No&quot;</td><td>&quot;No&quot;</td><td>&quot;Yes&quot;</td><td>&quot;Month-to-Month…</td><td>&quot;Yes&quot;</td><td>&quot;Mailed Check&quot;</td><td>70.45</td><td>70.45</td><td>0.0</td><td>0</td><td>15.28</td><td>85.73</td><td>2</td><td>1</td><td>76</td><td>3964</td><td>&quot;Other&quot;</td></tr><tr><td>&quot;3445-HXXGF&quot;</td><td>&quot;Male&quot;</td><td>66</td><td>&quot;Yes&quot;</td><td>&quot;No&quot;</td><td>0</td><td>&quot;California&quot;</td><td>&quot;Sierra Madre&quot;</td><td>91024</td><td>34.168686</td><td>-118.057505</td><td>6</td><td>58</td><td>&quot;Offer B&quot;</td><td>0.0</td><td>&quot;No Service&quot;</td><td>&quot;DSL&quot;</td><td>24</td><td>&quot;No&quot;</td><td>&quot;Yes&quot;</td><td>&quot;Yes&quot;</td><td>&quot;No&quot;</td><td>&quot;No&quot;</td><td>&quot;Yes&quot;</td><td>&quot;No&quot;</td><td>&quot;Yes&quot;</td><td>&quot;Month-to-Month…</td><td>&quot;Yes&quot;</td><td>&quot;Bank Withdrawa…</td><td>45.3</td><td>2651.2</td><td>40.95</td><td>0</td><td>0.0</td><td>2610.25</td><td>1</td><td>1</td><td>91</td><td>5444</td><td>&quot;Dissatisfactio…</td></tr><tr><td>&quot;2656-FMOKZ&quot;</td><td>&quot;Female&quot;</td><td>70</td><td>&quot;No&quot;</td><td>&quot;Yes&quot;</td><td>2</td><td>&quot;California&quot;</td><td>&quot;Pasadena&quot;</td><td>91106</td><td>34.139402</td><td>-118.128658</td><td>0</td><td>15</td><td>&quot;Offer D&quot;</td><td>44.07</td><td>&quot;Yes&quot;</td><td>&quot;Fiber Optic&quot;</td><td>19</td><td>&quot;No&quot;</td><td>&quot;No&quot;</td><td>&quot;No&quot;</td><td>&quot;No&quot;</td><td>&quot;No&quot;</td><td>&quot;No&quot;</td><td>&quot;No&quot;</td><td>&quot;Yes&quot;</td><td>&quot;Month-to-Month…</td><td>&quot;Yes&quot;</td><td>&quot;Mailed Check&quot;</td><td>74.45</td><td>1145.7</td><td>0.0</td><td>0</td><td>661.05</td><td>1806.75</td><td>2</td><td>1</td><td>91</td><td>5717</td><td>&quot;Dissatisfactio…</td></tr><tr><td>&quot;2070-FNEXE&quot;</td><td>&quot;Female&quot;</td><td>77</td><td>&quot;No&quot;</td><td>&quot;Yes&quot;</td><td>2</td><td>&quot;California&quot;</td><td>&quot;Pasadena&quot;</td><td>91107</td><td>34.159007</td><td>-118.087353</td><td>0</td><td>7</td><td>&quot;Offer E&quot;</td><td>26.95</td><td>&quot;No&quot;</td><td>&quot;Fiber Optic&quot;</td><td>18</td><td>&quot;Yes&quot;</td><td>&quot;No&quot;</td><td>&quot;No&quot;</td><td>&quot;No&quot;</td><td>&quot;No&quot;</td><td>&quot;No&quot;</td><td>&quot;No&quot;</td><td>&quot;No&quot;</td><td>&quot;Month-to-Month…</td><td>&quot;No&quot;</td><td>&quot;Bank Withdrawa…</td><td>76.45</td><td>503.6</td><td>11.05</td><td>0</td><td>188.65</td><td>681.2</td><td>2</td><td>1</td><td>81</td><td>4419</td><td>&quot;Price&quot;</td></tr><tr><td>&quot;0094-OIFMO&quot;</td><td>&quot;Female&quot;</td><td>78</td><td>&quot;No&quot;</td><td>&quot;Yes&quot;</td><td>1</td><td>&quot;California&quot;</td><td>&quot;North Hollywoo…</td><td>91605</td><td>34.207295</td><td>-118.400022</td><td>0</td><td>11</td><td>&quot;Offer D&quot;</td><td>11.59</td><td>&quot;No&quot;</td><td>&quot;Fiber Optic&quot;</td><td>29</td><td>&quot;No&quot;</td><td>&quot;Yes&quot;</td><td>&quot;No&quot;</td><td>&quot;No&quot;</td><td>&quot;Yes&quot;</td><td>&quot;Yes&quot;</td><td>&quot;No&quot;</td><td>&quot;No&quot;</td><td>&quot;Month-to-Month…</td><td>&quot;Yes&quot;</td><td>&quot;Bank Withdrawa…</td><td>95.0</td><td>1120.3</td><td>0.0</td><td>120</td><td>127.49</td><td>1367.79</td><td>1</td><td>1</td><td>85</td><td>5980</td><td>&quot;Dissatisfactio…</td></tr><tr><td>&quot;9947-OTFQU&quot;</td><td>&quot;Male&quot;</td><td>65</td><td>&quot;No&quot;</td><td>&quot;No&quot;</td><td>0</td><td>&quot;California&quot;</td><td>&quot;Covina&quot;</td><td>91722</td><td>34.097345</td><td>-117.906736</td><td>0</td><td>15</td><td>&quot;Offer D&quot;</td><td>29.11</td><td>&quot;No&quot;</td><td>&quot;Fiber Optic&quot;</td><td>29</td><td>&quot;No&quot;</td><td>&quot;Yes&quot;</td><td>&quot;No&quot;</td><td>&quot;No&quot;</td><td>&quot;No&quot;</td><td>&quot;No&quot;</td><td>&quot;No&quot;</td><td>&quot;Yes&quot;</td><td>&quot;Month-to-Month…</td><td>&quot;Yes&quot;</td><td>&quot;Bank Withdrawa…</td><td>74.4</td><td>1074.3</td><td>0.0</td><td>0</td><td>436.65</td><td>1510.95</td><td>1</td><td>1</td><td>86</td><td>4616</td><td>&quot;Competitor&quot;</td></tr><tr><td>&hellip;</td><td>&hellip;</td><td>&hellip;</td><td>&hellip;</td><td>&hellip;</td><td>&hellip;</td><td>&hellip;</td><td>&hellip;</td><td>&hellip;</td><td>&hellip;</td><td>&hellip;</td><td>&hellip;</td><td>&hellip;</td><td>&hellip;</td><td>&hellip;</td><td>&hellip;</td><td>&hellip;</td><td>&hellip;</td><td>&hellip;</td><td>&hellip;</td><td>&hellip;</td><td>&hellip;</td><td>&hellip;</td><td>&hellip;</td><td>&hellip;</td><td>&hellip;</td><td>&hellip;</td><td>&hellip;</td><td>&hellip;</td><td>&hellip;</td><td>&hellip;</td><td>&hellip;</td><td>&hellip;</td><td>&hellip;</td><td>&hellip;</td><td>&hellip;</td><td>&hellip;</td><td>&hellip;</td><td>&hellip;</td><td>&hellip;</td></tr><tr><td>&quot;2823-LKABH&quot;</td><td>&quot;Female&quot;</td><td>51</td><td>&quot;No&quot;</td><td>&quot;No&quot;</td><td>0</td><td>&quot;California&quot;</td><td>&quot;Rancho Mirage&quot;</td><td>92270</td><td>33.763678</td><td>-116.429928</td><td>0</td><td>18</td><td>&quot;No Offer&quot;</td><td>7.42</td><td>&quot;Yes&quot;</td><td>&quot;Fiber Optic&quot;</td><td>12</td><td>&quot;No&quot;</td><td>&quot;No&quot;</td><td>&quot;Yes&quot;</td><td>&quot;Yes&quot;</td><td>&quot;No&quot;</td><td>&quot;Yes&quot;</td><td>&quot;Yes&quot;</td><td>&quot;Yes&quot;</td><td>&quot;Month-to-Month…</td><td>&quot;Yes&quot;</td><td>&quot;Bank Withdrawa…</td><td>95.05</td><td>1679.4</td><td>38.65</td><td>0</td><td>133.56</td><td>1774.31</td><td>4</td><td>0</td><td>60</td><td>4524</td><td>&quot;Not Churn&quot;</td></tr><tr><td>&quot;0550-DCXLH&quot;</td><td>&quot;Male&quot;</td><td>64</td><td>&quot;No&quot;</td><td>&quot;No&quot;</td><td>0</td><td>&quot;California&quot;</td><td>&quot;Thermal&quot;</td><td>92274</td><td>33.53604</td><td>-116.119222</td><td>0</td><td>13</td><td>&quot;No Offer&quot;</td><td>40.99</td><td>&quot;No&quot;</td><td>&quot;DSL&quot;</td><td>21</td><td>&quot;No&quot;</td><td>&quot;Yes&quot;</td><td>&quot;No&quot;</td><td>&quot;Yes&quot;</td><td>&quot;Yes&quot;</td><td>&quot;Yes&quot;</td><td>&quot;Yes&quot;</td><td>&quot;Yes&quot;</td><td>&quot;Month-to-Month…</td><td>&quot;No&quot;</td><td>&quot;Mailed Check&quot;</td><td>73.35</td><td>931.55</td><td>49.02</td><td>0</td><td>532.87</td><td>1415.4</td><td>4</td><td>0</td><td>65</td><td>4645</td><td>&quot;Not Churn&quot;</td></tr><tr><td>&quot;9281-CEDRU&quot;</td><td>&quot;Female&quot;</td><td>23</td><td>&quot;Yes&quot;</td><td>&quot;No&quot;</td><td>0</td><td>&quot;California&quot;</td><td>&quot;Salton City&quot;</td><td>92275</td><td>33.28156</td><td>-115.955541</td><td>2</td><td>68</td><td>&quot;No Offer&quot;</td><td>8.62</td><td>&quot;No&quot;</td><td>&quot;DSL&quot;</td><td>53</td><td>&quot;No&quot;</td><td>&quot;Yes&quot;</td><td>&quot;No&quot;</td><td>&quot;Yes&quot;</td><td>&quot;Yes&quot;</td><td>&quot;No&quot;</td><td>&quot;No&quot;</td><td>&quot;Yes&quot;</td><td>&quot;Two Year&quot;</td><td>&quot;No&quot;</td><td>&quot;Bank Withdrawa…</td><td>64.1</td><td>4326.25</td><td>19.12</td><td>0</td><td>586.16</td><td>4893.29</td><td>5</td><td>0</td><td>48</td><td>5553</td><td>&quot;Not Churn&quot;</td></tr><tr><td>&quot;0871-OPBXW&quot;</td><td>&quot;Female&quot;</td><td>57</td><td>&quot;No&quot;</td><td>&quot;No&quot;</td><td>0</td><td>&quot;California&quot;</td><td>&quot;Escondido&quot;</td><td>92027</td><td>33.141265</td><td>-116.967221</td><td>0</td><td>2</td><td>&quot;Offer E&quot;</td><td>6.85</td><td>&quot;No&quot;</td><td>&quot;No Service&quot;</td><td>0</td><td>&quot;No Service&quot;</td><td>&quot;No Service&quot;</td><td>&quot;No Service&quot;</td><td>&quot;No Service&quot;</td><td>&quot;No Service&quot;</td><td>&quot;No Service&quot;</td><td>&quot;No Service&quot;</td><td>&quot;No Service&quot;</td><td>&quot;Month-to-Month…</td><td>&quot;Yes&quot;</td><td>&quot;Mailed Check&quot;</td><td>20.05</td><td>39.25</td><td>0.0</td><td>0</td><td>13.7</td><td>52.95</td><td>3</td><td>0</td><td>80</td><td>5191</td><td>&quot;Not Churn&quot;</td></tr><tr><td>&quot;9767-FFLEM&quot;</td><td>&quot;Male&quot;</td><td>63</td><td>&quot;No&quot;</td><td>&quot;No&quot;</td><td>0</td><td>&quot;California&quot;</td><td>&quot;Westmorland&quot;</td><td>92281</td><td>33.03679</td><td>-115.60503</td><td>0</td><td>38</td><td>&quot;No Offer&quot;</td><td>35.04</td><td>&quot;No&quot;</td><td>&quot;Fiber Optic&quot;</td><td>2</td><td>&quot;No&quot;</td><td>&quot;No&quot;</td><td>&quot;No&quot;</td><td>&quot;No&quot;</td><td>&quot;No&quot;</td><td>&quot;No&quot;</td><td>&quot;No&quot;</td><td>&quot;Yes&quot;</td><td>&quot;Month-to-Month…</td><td>&quot;Yes&quot;</td><td>&quot;Credit Card&quot;</td><td>69.5</td><td>2625.25</td><td>20.19</td><td>0</td><td>1331.52</td><td>3936.58</td><td>3</td><td>0</td><td>35</td><td>4591</td><td>&quot;Not Churn&quot;</td></tr><tr><td>&quot;8456-QDAVC&quot;</td><td>&quot;Male&quot;</td><td>57</td><td>&quot;No&quot;</td><td>&quot;No&quot;</td><td>0</td><td>&quot;California&quot;</td><td>&quot;Winterhaven&quot;</td><td>92283</td><td>32.852947</td><td>-114.850784</td><td>0</td><td>19</td><td>&quot;No Offer&quot;</td><td>29.55</td><td>&quot;No&quot;</td><td>&quot;Fiber Optic&quot;</td><td>13</td><td>&quot;No&quot;</td><td>&quot;No&quot;</td><td>&quot;No&quot;</td><td>&quot;No&quot;</td><td>&quot;Yes&quot;</td><td>&quot;No&quot;</td><td>&quot;No&quot;</td><td>&quot;Yes&quot;</td><td>&quot;Month-to-Month…</td><td>&quot;Yes&quot;</td><td>&quot;Bank Withdrawa…</td><td>78.7</td><td>1495.1</td><td>26.84</td><td>0</td><td>561.45</td><td>2029.71</td><td>3</td><td>0</td><td>20</td><td>2464</td><td>&quot;Not Churn&quot;</td></tr><tr><td>&quot;7750-EYXWZ&quot;</td><td>&quot;Female&quot;</td><td>62</td><td>&quot;No&quot;</td><td>&quot;No&quot;</td><td>0</td><td>&quot;California&quot;</td><td>&quot;Yucca Valley&quot;</td><td>92284</td><td>34.159534</td><td>-116.425984</td><td>0</td><td>12</td><td>&quot;No Offer&quot;</td><td>0.0</td><td>&quot;No Service&quot;</td><td>&quot;Cable&quot;</td><td>24</td><td>&quot;No&quot;</td><td>&quot;Yes&quot;</td><td>&quot;Yes&quot;</td><td>&quot;Yes&quot;</td><td>&quot;Yes&quot;</td><td>&quot;Yes&quot;</td><td>&quot;Yes&quot;</td><td>&quot;Yes&quot;</td><td>&quot;One Year&quot;</td><td>&quot;No&quot;</td><td>&quot;Bank Withdrawa…</td><td>60.65</td><td>743.3</td><td>40.41</td><td>0</td><td>0.0</td><td>702.89</td><td>3</td><td>0</td><td>24</td><td>3740</td><td>&quot;Not Churn&quot;</td></tr><tr><td>&quot;2569-WGERO&quot;</td><td>&quot;Female&quot;</td><td>30</td><td>&quot;No&quot;</td><td>&quot;No&quot;</td><td>0</td><td>&quot;California&quot;</td><td>&quot;Landers&quot;</td><td>92285</td><td>34.341737</td><td>-116.539416</td><td>0</td><td>72</td><td>&quot;No Offer&quot;</td><td>22.77</td><td>&quot;No&quot;</td><td>&quot;No Service&quot;</td><td>0</td><td>&quot;No Service&quot;</td><td>&quot;No Service&quot;</td><td>&quot;No Service&quot;</td><td>&quot;No Service&quot;</td><td>&quot;No Service&quot;</td><td>&quot;No Service&quot;</td><td>&quot;No Service&quot;</td><td>&quot;No Service&quot;</td><td>&quot;Two Year&quot;</td><td>&quot;Yes&quot;</td><td>&quot;Bank Withdrawa…</td><td>21.15</td><td>1419.4</td><td>19.31</td><td>0</td><td>1639.44</td><td>3039.53</td><td>5</td><td>0</td><td>45</td><td>5306</td><td>&quot;Not Churn&quot;</td></tr><tr><td>&quot;6840-RESVB&quot;</td><td>&quot;Male&quot;</td><td>38</td><td>&quot;Yes&quot;</td><td>&quot;Yes&quot;</td><td>2</td><td>&quot;California&quot;</td><td>&quot;Adelanto&quot;</td><td>92301</td><td>34.667815</td><td>-117.536183</td><td>1</td><td>24</td><td>&quot;Offer C&quot;</td><td>36.05</td><td>&quot;Yes&quot;</td><td>&quot;Cable&quot;</td><td>24</td><td>&quot;Yes&quot;</td><td>&quot;No&quot;</td><td>&quot;Yes&quot;</td><td>&quot;Yes&quot;</td><td>&quot;Yes&quot;</td><td>&quot;Yes&quot;</td><td>&quot;Yes&quot;</td><td>&quot;Yes&quot;</td><td>&quot;One Year&quot;</td><td>&quot;Yes&quot;</td><td>&quot;Mailed Check&quot;</td><td>84.8</td><td>1990.5</td><td>48.23</td><td>0</td><td>865.2</td><td>2807.47</td><td>3</td><td>0</td><td>59</td><td>2140</td><td>&quot;Not Churn&quot;</td></tr><tr><td>&quot;2234-XADUH&quot;</td><td>&quot;Female&quot;</td><td>30</td><td>&quot;Yes&quot;</td><td>&quot;Yes&quot;</td><td>2</td><td>&quot;California&quot;</td><td>&quot;Amboy&quot;</td><td>92304</td><td>34.559882</td><td>-115.637164</td><td>4</td><td>72</td><td>&quot;No Offer&quot;</td><td>29.66</td><td>&quot;Yes&quot;</td><td>&quot;Fiber Optic&quot;</td><td>59</td><td>&quot;No&quot;</td><td>&quot;Yes&quot;</td><td>&quot;Yes&quot;</td><td>&quot;No&quot;</td><td>&quot;Yes&quot;</td><td>&quot;Yes&quot;</td><td>&quot;Yes&quot;</td><td>&quot;Yes&quot;</td><td>&quot;One Year&quot;</td><td>&quot;Yes&quot;</td><td>&quot;Credit Card&quot;</td><td>103.2</td><td>7362.9</td><td>45.38</td><td>0</td><td>2135.52</td><td>9453.04</td><td>4</td><td>0</td><td>71</td><td>5560</td><td>&quot;Not Churn&quot;</td></tr><tr><td>&quot;4801-JZAZL&quot;</td><td>&quot;Female&quot;</td><td>32</td><td>&quot;Yes&quot;</td><td>&quot;Yes&quot;</td><td>2</td><td>&quot;California&quot;</td><td>&quot;Angelus Oaks&quot;</td><td>92305</td><td>34.1678</td><td>-116.86433</td><td>1</td><td>11</td><td>&quot;No Offer&quot;</td><td>0.0</td><td>&quot;No Service&quot;</td><td>&quot;DSL&quot;</td><td>17</td><td>&quot;Yes&quot;</td><td>&quot;No&quot;</td><td>&quot;No&quot;</td><td>&quot;No&quot;</td><td>&quot;No&quot;</td><td>&quot;No&quot;</td><td>&quot;No&quot;</td><td>&quot;Yes&quot;</td><td>&quot;Month-to-Month…</td><td>&quot;Yes&quot;</td><td>&quot;Bank Withdrawa…</td><td>29.6</td><td>346.45</td><td>27.24</td><td>0</td><td>0.0</td><td>319.21</td><td>4</td><td>0</td><td>59</td><td>2793</td><td>&quot;Not Churn&quot;</td></tr><tr><td>&quot;3186-AJIEK&quot;</td><td>&quot;Male&quot;</td><td>44</td><td>&quot;No&quot;</td><td>&quot;No&quot;</td><td>0</td><td>&quot;California&quot;</td><td>&quot;Apple Valley&quot;</td><td>92308</td><td>34.424926</td><td>-117.184503</td><td>0</td><td>66</td><td>&quot;No Offer&quot;</td><td>30.96</td><td>&quot;No&quot;</td><td>&quot;Fiber Optic&quot;</td><td>11</td><td>&quot;Yes&quot;</td><td>&quot;No&quot;</td><td>&quot;Yes&quot;</td><td>&quot;Yes&quot;</td><td>&quot;Yes&quot;</td><td>&quot;Yes&quot;</td><td>&quot;Yes&quot;</td><td>&quot;Yes&quot;</td><td>&quot;Two Year&quot;</td><td>&quot;Yes&quot;</td><td>&quot;Bank Withdrawa…</td><td>105.65</td><td>6844.5</td><td>0.0</td><td>0</td><td>2043.36</td><td>8887.86</td><td>4</td><td>0</td><td>38</td><td>5097</td><td>&quot;Not Churn&quot;</td></tr></tbody></table></div>"
      ],
      "text/plain": [
       "shape: (7_043, 40)\n",
       "┌─────────────┬────────┬─────┬─────────┬───┬─────────────┬─────────────┬──────┬─────────────────┐\n",
       "│ Customer ID ┆ Gender ┆ Age ┆ Married ┆ … ┆ Churn Value ┆ Churn Score ┆ CLTV ┆ Churn Category  │\n",
       "│ ---         ┆ ---    ┆ --- ┆ ---     ┆   ┆ ---         ┆ ---         ┆ ---  ┆ ---             │\n",
       "│ str         ┆ str    ┆ i64 ┆ str     ┆   ┆ i64         ┆ i64         ┆ i64  ┆ str             │\n",
       "╞═════════════╪════════╪═════╪═════════╪═══╪═════════════╪═════════════╪══════╪═════════════════╡\n",
       "│ 8779-QRDMV  ┆ Male   ┆ 78  ┆ No      ┆ … ┆ 1           ┆ 91          ┆ 5433 ┆ Competitor      │\n",
       "│ 7495-OOKFY  ┆ Female ┆ 74  ┆ Yes     ┆ … ┆ 1           ┆ 69          ┆ 5302 ┆ Competitor      │\n",
       "│ 1658-BYGOY  ┆ Male   ┆ 71  ┆ No      ┆ … ┆ 1           ┆ 81          ┆ 3179 ┆ Competitor      │\n",
       "│ 4598-XLKNJ  ┆ Female ┆ 78  ┆ Yes     ┆ … ┆ 1           ┆ 88          ┆ 5337 ┆ Dissatisfaction │\n",
       "│ 4846-WHAFZ  ┆ Female ┆ 80  ┆ Yes     ┆ … ┆ 1           ┆ 67          ┆ 2793 ┆ Price           │\n",
       "│ …           ┆ …      ┆ …   ┆ …       ┆ … ┆ …           ┆ …           ┆ …    ┆ …               │\n",
       "│ 2569-WGERO  ┆ Female ┆ 30  ┆ No      ┆ … ┆ 0           ┆ 45          ┆ 5306 ┆ Not Churn       │\n",
       "│ 6840-RESVB  ┆ Male   ┆ 38  ┆ Yes     ┆ … ┆ 0           ┆ 59          ┆ 2140 ┆ Not Churn       │\n",
       "│ 2234-XADUH  ┆ Female ┆ 30  ┆ Yes     ┆ … ┆ 0           ┆ 71          ┆ 5560 ┆ Not Churn       │\n",
       "│ 4801-JZAZL  ┆ Female ┆ 32  ┆ Yes     ┆ … ┆ 0           ┆ 59          ┆ 2793 ┆ Not Churn       │\n",
       "│ 3186-AJIEK  ┆ Male   ┆ 44  ┆ No      ┆ … ┆ 0           ┆ 38          ┆ 5097 ┆ Not Churn       │\n",
       "└─────────────┴────────┴─────┴─────────┴───┴─────────────┴─────────────┴──────┴─────────────────┘"
      ]
     },
     "execution_count": 181,
     "metadata": {},
     "output_type": "execute_result"
    }
   ],
   "source": [
    "def join_columns_all(a,b):\n",
    "    if a == \"No Service\" and b == \"No\":\n",
    "        return \"No Service\"\n",
    "    else:\n",
    "        return b\n",
    "    \n",
    "cols = ['Online Security', 'Online Backup',\n",
    "       'Device Protection Plan', 'Premium Tech Support', 'Streaming TV',\n",
    "       'Streaming Movies', 'Streaming Music', 'Unlimited Data']\n",
    "\n",
    "for col in cols:\n",
    "\n",
    "    usable_tab_no_age = usable_tab_no_age.with_columns(pl.struct(['Internet Type',col]) \\\n",
    "        .map_elements(lambda x: join_columns_all(x['Internet Type'], x[col])).alias(col))\n",
    "\n",
    "    # usable_tab_no_age.drop_in_place(col)\n",
    "\n",
    "usable_tab_no_age\n"
   ]
  },
  {
   "cell_type": "markdown",
   "metadata": {},
   "source": [
    "Write the data"
   ]
  },
  {
   "cell_type": "code",
   "execution_count": 182,
   "metadata": {},
   "outputs": [],
   "source": [
    "usable_tab_no_age.write_csv(\"artifacts/data_preprocessing/usable_data.csv\")"
   ]
  }
 ],
 "metadata": {
  "kernelspec": {
   "display_name": "venv",
   "language": "python",
   "name": "python3"
  },
  "language_info": {
   "codemirror_mode": {
    "name": "ipython",
    "version": 3
   },
   "file_extension": ".py",
   "mimetype": "text/x-python",
   "name": "python",
   "nbconvert_exporter": "python",
   "pygments_lexer": "ipython3",
   "version": "3.11.4"
  }
 },
 "nbformat": 4,
 "nbformat_minor": 2
}
